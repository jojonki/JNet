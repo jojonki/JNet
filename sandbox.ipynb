{
 "cells": [
  {
   "cell_type": "code",
   "execution_count": 1,
   "metadata": {},
   "outputs": [],
   "source": [
    "%load_ext autoreload\n",
    "%autoreload 2"
   ]
  },
  {
   "cell_type": "code",
   "execution_count": 2,
   "metadata": {},
   "outputs": [],
   "source": [
    "import numpy as np\n",
    "import json\n",
    "import pickle\n",
    "import argparse\n",
    "from nltk.tokenize import word_tokenize\n",
    "from tqdm import tqdm\n",
    "from process_data import save_pickle, load_pickle, load_task, load_glove_weights, to_var, make_word_vector, make_one_hot\n",
    "from word_embedding import WordEmbedding\n",
    "import torch\n",
    "import torch.nn as nn\n",
    "from torch.autograd import Variable\n",
    "from torch import optim\n",
    "import torch.nn.functional as F\n",
    "import sys"
   ]
  },
  {
   "cell_type": "code",
   "execution_count": 3,
   "metadata": {
    "collapsed": true
   },
   "outputs": [],
   "source": [
    "sys.argv = ['a.py']\n",
    "\n",
    "parser = argparse.ArgumentParser()\n",
    "parser.add_argument('--batch_size', type=int, default=8, help='input batch size')\n",
    "parser.add_argument('--embd_size', type=int, default=100, help='word embedding size')\n",
    "args = parser.parse_args()"
   ]
  },
  {
   "cell_type": "code",
   "execution_count": 4,
   "metadata": {},
   "outputs": [
    {
     "name": "stdout",
     "output_type": "stream",
     "text": [
      "load ./pickles/train_data.pickle\n",
      "load ./pickles/dev_data.pickle\n",
      "context char-level maxlen: 4063\n",
      "vocab size 123295\n",
      "ans size 78025\n",
      "ctx_sent_maxlen: 766\n",
      "query_sent_maxlen: 60\n",
      "load ./pickles/glove_embd.pickle\n"
     ]
    }
   ],
   "source": [
    "# train_data, train_ctx_maxlen = load_task('./dataset/train-v1.1.json')\n",
    "# save_pickle(train_data, './pickles/train_data.pickle')\n",
    "train_data = load_pickle('./pickles/train_data.pickle')\n",
    "# dev_data, dev_ctx_maxlen = load_task('./dataset/dev-v1.1.json')\n",
    "# save_pickle(dev_data, './pickles/dev_data.pickle')\n",
    "dev_data = load_pickle('./pickles/dev_data.pickle')\n",
    "data = train_data+dev_data\n",
    "# ctx_maxlen = max(train_ctx_maxlen, dev_ctx_maxlen)\n",
    "ctx_maxlen = 4063 #TODO\n",
    "args.ctx_maxlen = ctx_maxlen\n",
    "print('context char-level maxlen:', ctx_maxlen)\n",
    "\n",
    "vocab, vocab_a = set(), set()\n",
    "for ctx, _, query,answer, _, _ in data:\n",
    "    vocab |= set(ctx + query)# + answer)\n",
    "    vocab_a |= set(answer)\n",
    "    \n",
    "vocab = list(sorted(vocab))\n",
    "vocab_a = list(sorted(vocab_a))\n",
    "w2i = dict((w, i) for i, w in enumerate(vocab, 0))\n",
    "i2w = dict((i, w) for i, w in enumerate(vocab, 0))\n",
    "a2i = dict((w, i) for i, w in enumerate(vocab_a, 0))\n",
    "i2a = dict((i, w) for i, w in enumerate(vocab_a, 0))\n",
    "args.vocab_size = len(vocab)\n",
    "args.ans_size = len(vocab_a)\n",
    "print('vocab size', len(vocab))\n",
    "print('ans size', len(vocab_a))\n",
    "\n",
    "ctx_sent_maxlen = max([len(c) for c, _, _, _, _, _ in data])\n",
    "query_sent_maxlen = max([len(q) for _, _, q, _, _, _ in data])\n",
    "print('ctx_sent_maxlen:', ctx_sent_maxlen)\n",
    "print('query_sent_maxlen:', query_sent_maxlen)\n",
    "args.ctx_sent_maxlen = ctx_sent_maxlen\n",
    "args.query_sent_maxlen = query_sent_maxlen\n",
    "\n",
    "glove_embd = load_pickle('./pickles/glove_embd.pickle')\n",
    "# glove_embd = torch.from_numpy(load_glove_weights('./dataset', args.embd_size, len(vocab), w2i)).type(torch.FloatTensor)\n",
    "# save_pickle(glove_embd, './pickles/glove_embd.pickle')\n",
    "args.pre_embd = glove_embd"
   ]
  },
  {
   "cell_type": "code",
   "execution_count": null,
   "metadata": {},
   "outputs": [
    {
     "name": "stderr",
     "output_type": "stream",
     "text": [
      "\n",
      "  0%|          | 0/3067 [00:00<?, ?it/s]\u001b[A\n",
      "  0%|          | 3/3067 [00:00<02:11, 23.33it/s]"
     ]
    },
    {
     "name": "stdout",
     "output_type": "stream",
     "text": [
      "---Epoch 0\n",
      "8.315591812133789\n",
      "8.300823211669922\n",
      "8.295954704284668\n",
      "8.311386108398438\n"
     ]
    },
    {
     "name": "stderr",
     "output_type": "stream",
     "text": [
      "\u001b[A\n",
      "  0%|          | 6/3067 [00:00<02:11, 23.31it/s]\u001b[A\n",
      "  0%|          | 9/3067 [00:00<02:08, 23.80it/s]"
     ]
    },
    {
     "name": "stdout",
     "output_type": "stream",
     "text": [
      "8.321048736572266\n",
      "8.315695762634277\n",
      "8.325821876525879\n",
      "8.324726104736328\n",
      "8.309561729431152\n"
     ]
    },
    {
     "name": "stderr",
     "output_type": "stream",
     "text": [
      "\u001b[A\n",
      "  0%|          | 12/3067 [00:00<02:07, 23.98it/s]\u001b[A\n",
      "  0%|          | 15/3067 [00:00<02:03, 24.69it/s]"
     ]
    },
    {
     "name": "stdout",
     "output_type": "stream",
     "text": [
      "8.317605972290039\n",
      "8.291380882263184\n",
      "8.298723220825195\n",
      "8.32044506072998\n",
      "8.309014320373535\n",
      "8.292991638183594\n",
      "8.301270484924316\n"
     ]
    },
    {
     "name": "stderr",
     "output_type": "stream",
     "text": [
      "\u001b[A\n",
      "  1%|          | 18/3067 [00:00<02:03, 24.78it/s]\u001b[A\n",
      "  1%|          | 21/3067 [00:00<02:00, 25.18it/s]"
     ]
    },
    {
     "name": "stdout",
     "output_type": "stream",
     "text": [
      "8.321520805358887\n",
      "8.311705589294434\n",
      "8.29602336883545\n",
      "8.304677963256836\n",
      "8.310735702514648\n",
      "8.300021171569824\n"
     ]
    },
    {
     "name": "stderr",
     "output_type": "stream",
     "text": [
      "\u001b[A\n",
      "  1%|          | 24/3067 [00:00<02:01, 24.97it/s]\u001b[A\n",
      "  1%|          | 27/3067 [00:01<01:59, 25.44it/s]"
     ]
    },
    {
     "name": "stdout",
     "output_type": "stream",
     "text": [
      "8.304404258728027\n",
      "8.288259506225586\n",
      "8.295676231384277\n",
      "8.314346313476562\n",
      "8.325798988342285\n",
      "8.310787200927734\n"
     ]
    },
    {
     "name": "stderr",
     "output_type": "stream",
     "text": [
      "\u001b[A\n",
      "  1%|          | 30/3067 [00:01<01:59, 25.36it/s]\u001b[A\n",
      "  1%|          | 33/3067 [00:01<01:57, 25.86it/s]"
     ]
    },
    {
     "name": "stdout",
     "output_type": "stream",
     "text": [
      "8.311646461486816\n",
      "8.3182373046875\n",
      "8.311927795410156\n",
      "8.30462646484375\n",
      "8.30606746673584\n",
      "8.307806968688965\n"
     ]
    },
    {
     "name": "stderr",
     "output_type": "stream",
     "text": [
      "\u001b[A\n",
      "  1%|          | 36/3067 [00:01<01:57, 25.77it/s]\u001b[A\n",
      "  1%|▏         | 39/3067 [00:01<01:56, 25.98it/s]"
     ]
    },
    {
     "name": "stdout",
     "output_type": "stream",
     "text": [
      "8.32555866241455\n",
      "8.329451560974121\n",
      "8.31250286102295\n",
      "8.300384521484375\n",
      "8.303817749023438\n",
      "8.286174774169922\n"
     ]
    },
    {
     "name": "stderr",
     "output_type": "stream",
     "text": [
      "\u001b[A\n",
      "  1%|▏         | 42/3067 [00:01<01:57, 25.79it/s]\u001b[A\n",
      "  1%|▏         | 45/3067 [00:01<01:56, 26.03it/s]"
     ]
    },
    {
     "name": "stdout",
     "output_type": "stream",
     "text": [
      "8.292460441589355\n",
      "8.325180053710938\n",
      "8.3004150390625\n",
      "8.302977561950684\n",
      "8.327089309692383\n",
      "8.300780296325684\n"
     ]
    },
    {
     "name": "stderr",
     "output_type": "stream",
     "text": [
      "\u001b[A\n",
      "  2%|▏         | 48/3067 [00:01<01:56, 25.88it/s]\u001b[A\n",
      "  2%|▏         | 51/3067 [00:02<01:56, 25.92it/s]"
     ]
    },
    {
     "name": "stdout",
     "output_type": "stream",
     "text": [
      "8.300329208374023\n",
      "8.327402114868164\n",
      "8.279034614562988\n",
      "8.319441795349121\n",
      "8.291449546813965\n",
      "8.326507568359375\n"
     ]
    },
    {
     "name": "stderr",
     "output_type": "stream",
     "text": [
      "\u001b[A\n",
      "  2%|▏         | 54/3067 [00:02<01:56, 25.81it/s]\u001b[A\n",
      "  2%|▏         | 57/3067 [00:02<01:56, 25.81it/s]"
     ]
    },
    {
     "name": "stdout",
     "output_type": "stream",
     "text": [
      "8.268011093139648\n",
      "8.326146125793457\n",
      "8.309288024902344\n",
      "8.280844688415527\n",
      "8.33337116241455\n",
      "8.29922103881836\n"
     ]
    },
    {
     "name": "stderr",
     "output_type": "stream",
     "text": [
      "\u001b[A\n",
      "  2%|▏         | 60/3067 [00:02<01:57, 25.65it/s]\u001b[A\n",
      "  2%|▏         | 63/3067 [00:02<01:56, 25.89it/s]"
     ]
    },
    {
     "name": "stdout",
     "output_type": "stream",
     "text": [
      "8.301547050476074\n",
      "8.312456130981445\n",
      "8.326493263244629\n",
      "8.298770904541016\n",
      "8.294983863830566\n",
      "8.296142578125\n"
     ]
    },
    {
     "name": "stderr",
     "output_type": "stream",
     "text": [
      "\u001b[A\n",
      "  2%|▏         | 66/3067 [00:02<01:57, 25.60it/s]\u001b[A\n",
      "  2%|▏         | 69/3067 [00:02<01:57, 25.58it/s]"
     ]
    },
    {
     "name": "stdout",
     "output_type": "stream",
     "text": [
      "8.323089599609375\n",
      "8.300787925720215\n",
      "8.292085647583008\n",
      "8.306807518005371\n",
      "8.329760551452637\n",
      "8.285299301147461\n"
     ]
    },
    {
     "name": "stderr",
     "output_type": "stream",
     "text": [
      "\u001b[A\n",
      "  2%|▏         | 72/3067 [00:02<02:00, 24.86it/s]\u001b[A\n",
      "  2%|▏         | 75/3067 [00:02<01:59, 25.03it/s]"
     ]
    },
    {
     "name": "stdout",
     "output_type": "stream",
     "text": [
      "8.281357765197754\n",
      "8.308843612670898\n",
      "8.295958518981934\n",
      "8.326089859008789\n",
      "8.294496536254883\n"
     ]
    },
    {
     "name": "stderr",
     "output_type": "stream",
     "text": [
      "\u001b[A\n",
      "  3%|▎         | 78/3067 [00:03<01:55, 25.98it/s]\u001b[A\n",
      "  3%|▎         | 81/3067 [00:03<01:56, 25.69it/s]"
     ]
    },
    {
     "name": "stdout",
     "output_type": "stream",
     "text": [
      "8.297149658203125\n",
      "8.294173240661621\n",
      "8.29029655456543\n",
      "8.257650375366211\n",
      "8.306597709655762\n",
      "8.32983112335205\n",
      "8.25482177734375\n"
     ]
    },
    {
     "name": "stderr",
     "output_type": "stream",
     "text": [
      "\u001b[A\n",
      "  3%|▎         | 84/3067 [00:03<01:58, 25.08it/s]\u001b[A\n",
      "  3%|▎         | 87/3067 [00:03<01:55, 25.85it/s]"
     ]
    },
    {
     "name": "stdout",
     "output_type": "stream",
     "text": [
      "8.326201438903809\n",
      "8.282486915588379\n",
      "8.282541275024414\n",
      "8.303486824035645\n",
      "8.278564453125\n",
      "8.314457893371582\n"
     ]
    },
    {
     "name": "stderr",
     "output_type": "stream",
     "text": [
      "\u001b[A\n",
      "  3%|▎         | 90/3067 [00:03<01:54, 25.94it/s]\u001b[A\n",
      "  3%|▎         | 93/3067 [00:03<01:53, 26.17it/s]"
     ]
    },
    {
     "name": "stdout",
     "output_type": "stream",
     "text": [
      "8.301576614379883\n",
      "8.29106330871582\n",
      "8.335744857788086\n",
      "8.28406810760498\n",
      "8.281872749328613\n",
      "8.30811595916748\n"
     ]
    },
    {
     "name": "stderr",
     "output_type": "stream",
     "text": [
      "\u001b[A\n",
      "  3%|▎         | 96/3067 [00:03<01:54, 26.00it/s]\u001b[A\n",
      "  3%|▎         | 99/3067 [00:03<01:53, 26.19it/s]"
     ]
    },
    {
     "name": "stdout",
     "output_type": "stream",
     "text": [
      "8.343772888183594\n",
      "8.321276664733887\n",
      "8.288568496704102\n",
      "8.307604789733887\n",
      "8.32159423828125\n",
      "8.337386131286621\n"
     ]
    },
    {
     "name": "stderr",
     "output_type": "stream",
     "text": [
      "\u001b[A\n",
      "  3%|▎         | 102/3067 [00:03<01:54, 25.99it/s]\u001b[A\n",
      "  3%|▎         | 105/3067 [00:04<01:52, 26.41it/s]"
     ]
    },
    {
     "name": "stdout",
     "output_type": "stream",
     "text": [
      "8.31467342376709\n",
      "8.296416282653809\n",
      "8.27798080444336\n",
      "8.328787803649902\n",
      "8.336398124694824\n",
      "8.306172370910645\n"
     ]
    },
    {
     "name": "stderr",
     "output_type": "stream",
     "text": [
      "\u001b[A\n",
      "  4%|▎         | 108/3067 [00:04<01:56, 25.31it/s]\u001b[A\n",
      "  4%|▎         | 111/3067 [00:04<02:01, 24.26it/s]"
     ]
    },
    {
     "name": "stdout",
     "output_type": "stream",
     "text": [
      "8.288325309753418\n",
      "8.330604553222656\n",
      "8.306650161743164\n",
      "8.302103042602539\n",
      "8.314366340637207\n"
     ]
    },
    {
     "name": "stderr",
     "output_type": "stream",
     "text": [
      "\u001b[A\n",
      "  4%|▎         | 114/3067 [00:04<01:59, 24.69it/s]\u001b[A"
     ]
    },
    {
     "name": "stdout",
     "output_type": "stream",
     "text": [
      "8.301854133605957\n",
      "8.284053802490234\n",
      "8.269194602966309\n",
      "8.287364959716797\n",
      "8.324889183044434\n",
      "8.307354927062988\n"
     ]
    },
    {
     "name": "stderr",
     "output_type": "stream",
     "text": [
      "\n",
      "  4%|▍         | 117/3067 [00:04<01:56, 25.28it/s]\u001b[A\n",
      "  4%|▍         | 120/3067 [00:04<01:55, 25.62it/s]\u001b[A\n",
      "  4%|▍         | 123/3067 [00:04<01:51, 26.36it/s]"
     ]
    },
    {
     "name": "stdout",
     "output_type": "stream",
     "text": [
      "8.278067588806152\n",
      "8.306737899780273\n",
      "8.287116050720215\n",
      "8.376626968383789\n",
      "8.313861846923828\n",
      "8.346122741699219\n"
     ]
    },
    {
     "name": "stderr",
     "output_type": "stream",
     "text": [
      "\u001b[A\n",
      "  4%|▍         | 126/3067 [00:04<01:50, 26.73it/s]\u001b[A\n",
      "  4%|▍         | 129/3067 [00:05<01:49, 26.84it/s]"
     ]
    },
    {
     "name": "stdout",
     "output_type": "stream",
     "text": [
      "8.307138442993164\n",
      "8.316728591918945\n",
      "8.346945762634277\n",
      "8.306156158447266\n",
      "8.28888988494873\n",
      "8.293730735778809\n"
     ]
    },
    {
     "name": "stderr",
     "output_type": "stream",
     "text": [
      "\u001b[A\n",
      "  4%|▍         | 132/3067 [00:05<01:49, 26.82it/s]\u001b[A"
     ]
    },
    {
     "name": "stdout",
     "output_type": "stream",
     "text": [
      "8.355950355529785\n",
      "8.309471130371094\n",
      "8.291169166564941\n",
      "8.27025032043457\n",
      "8.289487838745117\n"
     ]
    },
    {
     "name": "stderr",
     "output_type": "stream",
     "text": [
      "\n",
      "  4%|▍         | 135/3067 [00:05<01:53, 25.81it/s]\u001b[A\n",
      "  4%|▍         | 138/3067 [00:05<01:49, 26.67it/s]\u001b[A\n",
      "  5%|▍         | 141/3067 [00:05<01:49, 26.63it/s]"
     ]
    },
    {
     "name": "stdout",
     "output_type": "stream",
     "text": [
      "8.303168296813965\n",
      "8.341485023498535\n",
      "8.286767959594727\n",
      "8.317773818969727\n",
      "8.279107093811035\n",
      "8.30966854095459\n",
      "8.284889221191406\n"
     ]
    },
    {
     "name": "stderr",
     "output_type": "stream",
     "text": [
      "\u001b[A\n",
      "  5%|▍         | 144/3067 [00:05<01:51, 26.19it/s]\u001b[A\n",
      "  5%|▍         | 147/3067 [00:05<01:50, 26.35it/s]"
     ]
    },
    {
     "name": "stdout",
     "output_type": "stream",
     "text": [
      "8.260174751281738\n",
      "8.328868865966797\n",
      "8.283498764038086\n",
      "8.27094841003418\n",
      "8.270898818969727\n",
      "8.315752029418945\n"
     ]
    },
    {
     "name": "stderr",
     "output_type": "stream",
     "text": [
      "\u001b[A\n",
      "  5%|▍         | 150/3067 [00:05<01:50, 26.37it/s]\u001b[A\n",
      "  5%|▍         | 153/3067 [00:05<01:50, 26.35it/s]"
     ]
    },
    {
     "name": "stdout",
     "output_type": "stream",
     "text": [
      "8.312413215637207\n",
      "8.285038948059082\n",
      "8.328056335449219\n",
      "8.272512435913086\n",
      "8.301233291625977\n",
      "8.207283973693848\n"
     ]
    },
    {
     "name": "stderr",
     "output_type": "stream",
     "text": [
      "\u001b[A\n",
      "  5%|▌         | 156/3067 [00:06<01:49, 26.47it/s]\u001b[A\n",
      "  5%|▌         | 159/3067 [00:06<01:50, 26.40it/s]"
     ]
    },
    {
     "name": "stdout",
     "output_type": "stream",
     "text": [
      "8.268067359924316\n",
      "8.32772159576416\n",
      "8.283350944519043\n",
      "8.306354522705078\n",
      "8.244394302368164\n",
      "8.237194061279297\n"
     ]
    },
    {
     "name": "stderr",
     "output_type": "stream",
     "text": [
      "\u001b[A\n",
      "  5%|▌         | 165/3067 [00:06<01:48, 26.65it/s]"
     ]
    },
    {
     "name": "stdout",
     "output_type": "stream",
     "text": [
      "8.26834774017334\n",
      "8.330421447753906\n",
      "8.20053482055664\n",
      "8.202127456665039\n",
      "8.22684383392334\n",
      "8.351361274719238\n"
     ]
    },
    {
     "name": "stderr",
     "output_type": "stream",
     "text": [
      "  6%|▌         | 171/3067 [00:06<01:46, 27.09it/s]"
     ]
    },
    {
     "name": "stdout",
     "output_type": "stream",
     "text": [
      "8.235915184020996\n",
      "8.271927833557129\n",
      "8.185153007507324\n",
      "8.13497257232666\n",
      "8.124691009521484\n",
      "8.347164154052734\n"
     ]
    },
    {
     "name": "stderr",
     "output_type": "stream",
     "text": [
      "  6%|▌         | 177/3067 [00:06<01:45, 27.29it/s]"
     ]
    },
    {
     "name": "stdout",
     "output_type": "stream",
     "text": [
      "8.387110710144043\n",
      "8.375964164733887\n",
      "8.302249908447266\n",
      "8.293926239013672\n",
      "8.335359573364258\n",
      "8.25400161743164\n"
     ]
    },
    {
     "name": "stderr",
     "output_type": "stream",
     "text": [
      "  6%|▌         | 183/3067 [00:07<01:44, 27.69it/s]"
     ]
    },
    {
     "name": "stdout",
     "output_type": "stream",
     "text": [
      "8.289082527160645\n",
      "8.333979606628418\n",
      "8.254989624023438\n",
      "8.251408576965332\n",
      "8.27065658569336\n",
      "8.163681983947754\n"
     ]
    },
    {
     "name": "stderr",
     "output_type": "stream",
     "text": [
      "  6%|▌         | 189/3067 [00:07<01:43, 27.73it/s]"
     ]
    },
    {
     "name": "stdout",
     "output_type": "stream",
     "text": [
      "8.216758728027344\n",
      "8.230295181274414\n",
      "8.320924758911133\n",
      "8.231918334960938\n",
      "8.315215110778809\n",
      "8.148724555969238\n"
     ]
    },
    {
     "name": "stderr",
     "output_type": "stream",
     "text": [
      "  6%|▋         | 195/3067 [00:07<01:41, 28.21it/s]"
     ]
    },
    {
     "name": "stdout",
     "output_type": "stream",
     "text": [
      "8.269037246704102\n",
      "8.252685546875\n",
      "8.345471382141113\n",
      "8.257859230041504\n",
      "8.266260147094727\n",
      "8.343989372253418\n"
     ]
    },
    {
     "name": "stderr",
     "output_type": "stream",
     "text": [
      "  7%|▋         | 201/3067 [00:07<01:44, 27.49it/s]"
     ]
    },
    {
     "name": "stdout",
     "output_type": "stream",
     "text": [
      "8.299529075622559\n",
      "8.31683349609375\n",
      "8.275779724121094\n",
      "8.31861686706543\n",
      "8.409049034118652\n",
      "8.288637161254883\n"
     ]
    },
    {
     "name": "stderr",
     "output_type": "stream",
     "text": [
      "  7%|▋         | 207/3067 [00:07<01:43, 27.60it/s]"
     ]
    },
    {
     "name": "stdout",
     "output_type": "stream",
     "text": [
      "8.332833290100098\n",
      "8.251540184020996\n",
      "8.349592208862305\n",
      "8.225342750549316\n",
      "8.195073127746582\n",
      "8.110958099365234\n"
     ]
    },
    {
     "name": "stderr",
     "output_type": "stream",
     "text": [
      "\r",
      "  7%|▋         | 210/3067 [00:08<01:46, 26.70it/s]"
     ]
    },
    {
     "name": "stdout",
     "output_type": "stream",
     "text": [
      "8.100418090820312\n",
      "8.290783882141113\n",
      "8.274008750915527\n",
      "8.251664161682129\n",
      "8.146732330322266\n",
      "8.187177658081055\n"
     ]
    },
    {
     "name": "stderr",
     "output_type": "stream",
     "text": [
      "  7%|▋         | 219/3067 [00:08<01:46, 26.67it/s]"
     ]
    },
    {
     "name": "stdout",
     "output_type": "stream",
     "text": [
      "8.268559455871582\n",
      "8.09349250793457\n",
      "8.2108793258667\n",
      "8.327216148376465\n",
      "8.131464958190918\n",
      "8.36790943145752\n"
     ]
    },
    {
     "name": "stderr",
     "output_type": "stream",
     "text": [
      "  7%|▋         | 225/3067 [00:08<01:45, 27.02it/s]"
     ]
    },
    {
     "name": "stdout",
     "output_type": "stream",
     "text": [
      "8.20779800415039\n",
      "8.292010307312012\n",
      "8.218355178833008\n",
      "8.200369834899902\n",
      "8.11694049835205\n",
      "8.14317512512207\n"
     ]
    },
    {
     "name": "stderr",
     "output_type": "stream",
     "text": [
      "\r",
      "  7%|▋         | 228/3067 [00:08<01:45, 27.00it/s]"
     ]
    },
    {
     "name": "stdout",
     "output_type": "stream",
     "text": [
      "7.8828887939453125\n",
      "8.212565422058105\n",
      "8.063076972961426\n",
      "8.176846504211426\n",
      "8.224666595458984\n",
      "8.032685279846191\n"
     ]
    },
    {
     "name": "stderr",
     "output_type": "stream",
     "text": [
      "  8%|▊         | 237/3067 [00:09<01:44, 27.12it/s]"
     ]
    },
    {
     "name": "stdout",
     "output_type": "stream",
     "text": [
      "7.932000637054443\n",
      "7.824961185455322\n",
      "8.025031089782715\n",
      "7.905471324920654\n",
      "8.25172233581543\n",
      "8.071800231933594\n"
     ]
    },
    {
     "name": "stderr",
     "output_type": "stream",
     "text": [
      "  8%|▊         | 243/3067 [00:09<01:41, 27.71it/s]"
     ]
    },
    {
     "name": "stdout",
     "output_type": "stream",
     "text": [
      "8.132441520690918\n",
      "8.415928840637207\n",
      "8.392019271850586\n",
      "8.22941780090332\n",
      "8.210088729858398\n",
      "8.482166290283203\n"
     ]
    },
    {
     "name": "stderr",
     "output_type": "stream",
     "text": [
      "  8%|▊         | 249/3067 [00:09<01:42, 27.61it/s]"
     ]
    },
    {
     "name": "stdout",
     "output_type": "stream",
     "text": [
      "8.389861106872559\n",
      "8.280187606811523\n",
      "8.239542007446289\n",
      "8.039113998413086\n",
      "8.177499771118164\n",
      "8.30447769165039\n"
     ]
    },
    {
     "name": "stderr",
     "output_type": "stream",
     "text": [
      "  8%|▊         | 255/3067 [00:09<01:42, 27.34it/s]"
     ]
    },
    {
     "name": "stdout",
     "output_type": "stream",
     "text": [
      "8.348589897155762\n",
      "8.003377914428711\n",
      "8.320117950439453\n",
      "8.146808624267578\n",
      "8.310454368591309\n",
      "8.1287202835083\n"
     ]
    },
    {
     "name": "stderr",
     "output_type": "stream",
     "text": [
      "\r",
      "  8%|▊         | 258/3067 [00:09<01:45, 26.63it/s]"
     ]
    },
    {
     "name": "stdout",
     "output_type": "stream",
     "text": [
      "8.23958969116211\n",
      "8.274666786193848\n",
      "8.257333755493164\n",
      "8.201496124267578\n",
      "8.098526000976562\n",
      "8.273167610168457\n"
     ]
    },
    {
     "name": "stderr",
     "output_type": "stream",
     "text": [
      "  9%|▊         | 267/3067 [00:10<01:44, 26.89it/s]"
     ]
    },
    {
     "name": "stdout",
     "output_type": "stream",
     "text": [
      "8.299379348754883\n",
      "8.183446884155273\n",
      "8.273046493530273\n",
      "8.207266807556152\n",
      "8.138693809509277\n",
      "8.266233444213867\n"
     ]
    },
    {
     "name": "stderr",
     "output_type": "stream",
     "text": [
      "\r",
      "  9%|▉         | 270/3067 [00:10<01:44, 26.78it/s]"
     ]
    },
    {
     "name": "stdout",
     "output_type": "stream",
     "text": [
      "8.102166175842285\n",
      "7.935018062591553\n",
      "8.086686134338379\n",
      "8.116040229797363\n",
      "8.202455520629883\n",
      "8.385738372802734\n"
     ]
    },
    {
     "name": "stderr",
     "output_type": "stream",
     "text": [
      "  9%|▉         | 276/3067 [00:10<01:46, 26.27it/s]"
     ]
    },
    {
     "name": "stdout",
     "output_type": "stream",
     "text": [
      "8.239325523376465\n",
      "8.199838638305664\n",
      "8.305620193481445\n",
      "8.128619194030762\n",
      "8.148089408874512\n",
      "8.25794792175293\n"
     ]
    },
    {
     "name": "stderr",
     "output_type": "stream",
     "text": [
      "  9%|▉         | 282/3067 [00:10<01:48, 25.74it/s]"
     ]
    },
    {
     "name": "stdout",
     "output_type": "stream",
     "text": [
      "8.266120910644531\n",
      "8.148327827453613\n",
      "8.271774291992188\n",
      "8.328448295593262\n",
      "7.973329544067383\n",
      "8.1487398147583\n"
     ]
    },
    {
     "name": "stderr",
     "output_type": "stream",
     "text": [
      "  9%|▉         | 288/3067 [00:10<01:48, 25.72it/s]"
     ]
    },
    {
     "name": "stdout",
     "output_type": "stream",
     "text": [
      "8.218018531799316\n",
      "8.092513084411621\n",
      "8.097749710083008\n",
      "8.16525650024414\n",
      "8.203454971313477\n",
      "8.184958457946777\n"
     ]
    },
    {
     "name": "stderr",
     "output_type": "stream",
     "text": [
      " 10%|▉         | 294/3067 [00:11<01:48, 25.58it/s]"
     ]
    },
    {
     "name": "stdout",
     "output_type": "stream",
     "text": [
      "8.241085052490234\n",
      "7.986433506011963\n",
      "8.219950675964355\n",
      "8.182229995727539\n",
      "8.072966575622559\n",
      "8.247312545776367\n"
     ]
    },
    {
     "name": "stderr",
     "output_type": "stream",
     "text": [
      " 10%|▉         | 300/3067 [00:11<01:47, 25.68it/s]"
     ]
    },
    {
     "name": "stdout",
     "output_type": "stream",
     "text": [
      "7.827884197235107\n",
      "7.962223052978516\n",
      "8.150659561157227\n",
      "8.276617050170898\n",
      "8.0308837890625\n",
      "8.044977188110352\n"
     ]
    },
    {
     "name": "stderr",
     "output_type": "stream",
     "text": [
      " 10%|█         | 309/3067 [00:11<01:43, 26.68it/s]"
     ]
    },
    {
     "name": "stdout",
     "output_type": "stream",
     "text": [
      "8.164884567260742\n",
      "8.192216873168945\n",
      "8.147006034851074\n",
      "8.036516189575195\n",
      "8.120116233825684\n",
      "8.116080284118652\n"
     ]
    },
    {
     "name": "stderr",
     "output_type": "stream",
     "text": [
      "\r",
      " 10%|█         | 312/3067 [00:11<01:44, 26.48it/s]"
     ]
    },
    {
     "name": "stdout",
     "output_type": "stream",
     "text": [
      "8.159693717956543\n",
      "7.858150959014893\n",
      "7.814577102661133\n",
      "8.086862564086914\n",
      "7.7191290855407715\n",
      "7.904263496398926\n"
     ]
    },
    {
     "name": "stderr",
     "output_type": "stream",
     "text": [
      " 10%|█         | 321/3067 [00:12<01:41, 26.99it/s]"
     ]
    },
    {
     "name": "stdout",
     "output_type": "stream",
     "text": [
      "7.748274326324463\n",
      "8.061985969543457\n",
      "7.806756019592285\n",
      "8.213662147521973\n",
      "7.777245044708252\n",
      "8.093812942504883\n"
     ]
    },
    {
     "name": "stderr",
     "output_type": "stream",
     "text": [
      " 11%|█         | 327/3067 [00:12<01:40, 27.13it/s]"
     ]
    },
    {
     "name": "stdout",
     "output_type": "stream",
     "text": [
      "7.783496379852295\n",
      "8.030685424804688\n",
      "7.903663635253906\n",
      "8.165404319763184\n",
      "8.208834648132324\n",
      "7.855330467224121\n"
     ]
    },
    {
     "name": "stderr",
     "output_type": "stream",
     "text": [
      " 11%|█         | 333/3067 [00:12<01:40, 27.22it/s]"
     ]
    },
    {
     "name": "stdout",
     "output_type": "stream",
     "text": [
      "7.647710800170898\n",
      "7.70999813079834\n",
      "7.917952537536621\n",
      "8.350915908813477\n",
      "7.327150344848633\n",
      "7.673890590667725\n"
     ]
    },
    {
     "name": "stderr",
     "output_type": "stream",
     "text": [
      " 11%|█         | 339/3067 [00:12<01:40, 27.15it/s]"
     ]
    },
    {
     "name": "stdout",
     "output_type": "stream",
     "text": [
      "7.643071174621582\n",
      "7.513549327850342\n",
      "7.191390514373779\n",
      "7.55591344833374\n",
      "6.964302062988281\n",
      "8.067647933959961\n"
     ]
    },
    {
     "name": "stderr",
     "output_type": "stream",
     "text": [
      " 11%|█         | 345/3067 [00:13<01:39, 27.27it/s]"
     ]
    },
    {
     "name": "stdout",
     "output_type": "stream",
     "text": [
      "7.7625041007995605\n",
      "7.743892192840576\n",
      "8.0906400680542\n",
      "8.311627388000488\n",
      "7.792950630187988\n",
      "7.717343330383301\n"
     ]
    },
    {
     "name": "stderr",
     "output_type": "stream",
     "text": [
      " 11%|█▏        | 351/3067 [00:13<01:37, 27.93it/s]"
     ]
    },
    {
     "name": "stdout",
     "output_type": "stream",
     "text": [
      "7.950529098510742\n",
      "8.138214111328125\n",
      "7.962599277496338\n",
      "7.765552043914795\n",
      "7.559154987335205\n",
      "8.027612686157227\n"
     ]
    },
    {
     "name": "stderr",
     "output_type": "stream",
     "text": [
      " 12%|█▏        | 357/3067 [00:13<01:37, 27.67it/s]"
     ]
    },
    {
     "name": "stdout",
     "output_type": "stream",
     "text": [
      "8.053116798400879\n",
      "8.044059753417969\n",
      "8.305891990661621\n",
      "7.977750778198242\n",
      "7.8542046546936035\n",
      "8.036800384521484\n"
     ]
    },
    {
     "name": "stderr",
     "output_type": "stream",
     "text": [
      " 12%|█▏        | 363/3067 [00:13<01:37, 27.63it/s]"
     ]
    },
    {
     "name": "stdout",
     "output_type": "stream",
     "text": [
      "8.151558876037598\n",
      "7.9303975105285645\n",
      "7.936446189880371\n",
      "8.13890552520752\n",
      "7.986634254455566\n",
      "7.923849105834961\n"
     ]
    },
    {
     "name": "stderr",
     "output_type": "stream",
     "text": [
      " 12%|█▏        | 369/3067 [00:13<01:37, 27.54it/s]"
     ]
    },
    {
     "name": "stdout",
     "output_type": "stream",
     "text": [
      "7.823291301727295\n",
      "7.633021354675293\n",
      "7.990518093109131\n",
      "7.7043023109436035\n",
      "7.691545486450195\n",
      "7.824070930480957\n"
     ]
    },
    {
     "name": "stderr",
     "output_type": "stream",
     "text": [
      " 12%|█▏        | 375/3067 [00:14<01:37, 27.73it/s]"
     ]
    },
    {
     "name": "stdout",
     "output_type": "stream",
     "text": [
      "7.962748050689697\n",
      "7.87120246887207\n",
      "7.878174781799316\n",
      "7.610013961791992\n",
      "7.825257301330566\n",
      "8.050674438476562\n"
     ]
    },
    {
     "name": "stderr",
     "output_type": "stream",
     "text": [
      " 12%|█▏        | 381/3067 [00:14<01:36, 27.71it/s]"
     ]
    },
    {
     "name": "stdout",
     "output_type": "stream",
     "text": [
      "7.775726318359375\n",
      "7.6038432121276855\n",
      "8.312329292297363\n",
      "8.145330429077148\n",
      "7.852919101715088\n",
      "7.520773410797119\n"
     ]
    },
    {
     "name": "stderr",
     "output_type": "stream",
     "text": [
      " 13%|█▎        | 387/3067 [00:14<01:36, 27.71it/s]"
     ]
    },
    {
     "name": "stdout",
     "output_type": "stream",
     "text": [
      "7.760965347290039\n",
      "7.793942451477051\n",
      "7.947032928466797\n",
      "7.852245807647705\n",
      "7.848444938659668\n",
      "7.8613386154174805\n"
     ]
    },
    {
     "name": "stderr",
     "output_type": "stream",
     "text": [
      " 13%|█▎        | 393/3067 [00:14<01:37, 27.53it/s]"
     ]
    },
    {
     "name": "stdout",
     "output_type": "stream",
     "text": [
      "7.761326789855957\n",
      "7.796287536621094\n",
      "7.781973361968994\n",
      "7.91336727142334\n",
      "7.945791721343994\n",
      "7.570851802825928\n"
     ]
    },
    {
     "name": "stderr",
     "output_type": "stream",
     "text": [
      " 13%|█▎        | 399/3067 [00:15<01:36, 27.70it/s]"
     ]
    },
    {
     "name": "stdout",
     "output_type": "stream",
     "text": [
      "7.646938800811768\n",
      "7.778994560241699\n",
      "7.930849552154541\n",
      "7.739144325256348\n",
      "7.546344757080078\n",
      "7.491608619689941\n"
     ]
    },
    {
     "name": "stderr",
     "output_type": "stream",
     "text": [
      " 13%|█▎        | 405/3067 [00:15<01:34, 28.05it/s]"
     ]
    },
    {
     "name": "stdout",
     "output_type": "stream",
     "text": [
      "7.5403242111206055\n",
      "7.256771564483643\n",
      "7.65435791015625\n",
      "7.683871746063232\n",
      "7.790947437286377\n",
      "7.3688225746154785\n"
     ]
    },
    {
     "name": "stderr",
     "output_type": "stream",
     "text": [
      " 13%|█▎        | 411/3067 [00:15<01:32, 28.59it/s]"
     ]
    },
    {
     "name": "stdout",
     "output_type": "stream",
     "text": [
      "7.379708290100098\n",
      "7.743878364562988\n",
      "7.604699611663818\n",
      "7.96132230758667\n",
      "7.651132106781006\n",
      "7.824731349945068\n"
     ]
    },
    {
     "name": "stderr",
     "output_type": "stream",
     "text": [
      " 14%|█▎        | 417/3067 [00:15<01:35, 27.75it/s]"
     ]
    },
    {
     "name": "stdout",
     "output_type": "stream",
     "text": [
      "7.646976947784424\n",
      "7.574339866638184\n",
      "7.66435432434082\n",
      "7.23699951171875\n",
      "7.383161544799805\n",
      "7.65544319152832\n"
     ]
    },
    {
     "name": "stderr",
     "output_type": "stream",
     "text": [
      " 14%|█▍        | 423/3067 [00:15<01:35, 27.58it/s]"
     ]
    },
    {
     "name": "stdout",
     "output_type": "stream",
     "text": [
      "7.269684791564941\n",
      "7.437887191772461\n",
      "7.875922679901123\n",
      "7.472659111022949\n",
      "8.074588775634766\n",
      "7.80768346786499\n"
     ]
    },
    {
     "name": "stderr",
     "output_type": "stream",
     "text": [
      " 14%|█▍        | 429/3067 [00:16<01:35, 27.76it/s]"
     ]
    },
    {
     "name": "stdout",
     "output_type": "stream",
     "text": [
      "7.892764091491699\n",
      "7.8807573318481445\n",
      "7.342405796051025\n",
      "8.00390625\n",
      "7.609351634979248\n",
      "7.8201775550842285\n"
     ]
    },
    {
     "name": "stderr",
     "output_type": "stream",
     "text": [
      " 14%|█▍        | 435/3067 [00:16<01:35, 27.70it/s]"
     ]
    },
    {
     "name": "stdout",
     "output_type": "stream",
     "text": [
      "7.765254497528076\n",
      "7.540323257446289\n",
      "7.829336643218994\n",
      "7.89671516418457\n",
      "8.038168907165527\n",
      "7.805515289306641\n"
     ]
    },
    {
     "name": "stderr",
     "output_type": "stream",
     "text": [
      "\r",
      " 14%|█▍        | 438/3067 [00:16<01:35, 27.66it/s]"
     ]
    },
    {
     "name": "stdout",
     "output_type": "stream",
     "text": [
      "7.093815803527832\n",
      "6.856750965118408\n",
      "7.674201011657715\n",
      "7.846369743347168\n",
      "7.4311041831970215\n",
      "7.508907318115234\n"
     ]
    },
    {
     "name": "stderr",
     "output_type": "stream",
     "text": [
      " 15%|█▍        | 447/3067 [00:16<01:37, 26.93it/s]"
     ]
    },
    {
     "name": "stdout",
     "output_type": "stream",
     "text": [
      "7.6852335929870605\n",
      "7.5121331214904785\n",
      "7.473872184753418\n",
      "7.2968621253967285\n",
      "7.506815433502197\n",
      "7.401133060455322\n"
     ]
    },
    {
     "name": "stderr",
     "output_type": "stream",
     "text": [
      " 15%|█▍        | 453/3067 [00:17<01:37, 26.81it/s]"
     ]
    },
    {
     "name": "stdout",
     "output_type": "stream",
     "text": [
      "7.647157192230225\n",
      "7.227663993835449\n",
      "7.250666618347168\n",
      "7.092564582824707\n",
      "6.983667373657227\n",
      "7.061657905578613\n"
     ]
    },
    {
     "name": "stderr",
     "output_type": "stream",
     "text": [
      " 15%|█▍        | 459/3067 [00:17<01:34, 27.58it/s]"
     ]
    },
    {
     "name": "stdout",
     "output_type": "stream",
     "text": [
      "6.498063564300537\n",
      "7.247103214263916\n",
      "7.807718276977539\n",
      "6.927538871765137\n",
      "7.445523738861084\n",
      "7.600987434387207\n"
     ]
    },
    {
     "name": "stderr",
     "output_type": "stream",
     "text": [
      " 15%|█▌        | 465/3067 [00:17<01:31, 28.39it/s]"
     ]
    },
    {
     "name": "stdout",
     "output_type": "stream",
     "text": [
      "7.2295823097229\n",
      "7.0215253829956055\n",
      "7.228175163269043\n",
      "7.0862836837768555\n",
      "7.376063823699951\n",
      "7.563838005065918\n"
     ]
    },
    {
     "name": "stderr",
     "output_type": "stream",
     "text": [
      " 15%|█▌        | 471/3067 [00:17<01:33, 27.77it/s]"
     ]
    },
    {
     "name": "stdout",
     "output_type": "stream",
     "text": [
      "7.525375843048096\n",
      "6.795547008514404\n",
      "7.690788269042969\n",
      "7.280785083770752\n",
      "7.550393581390381\n",
      "7.2248148918151855\n"
     ]
    },
    {
     "name": "stderr",
     "output_type": "stream",
     "text": [
      " 16%|█▌        | 477/3067 [00:17<01:33, 27.63it/s]"
     ]
    },
    {
     "name": "stdout",
     "output_type": "stream",
     "text": [
      "7.0512614250183105\n",
      "7.928005218505859\n",
      "7.200836181640625\n",
      "7.348230361938477\n",
      "7.008448123931885\n",
      "7.40242338180542\n"
     ]
    },
    {
     "name": "stderr",
     "output_type": "stream",
     "text": [
      " 16%|█▌        | 483/3067 [00:18<01:33, 27.52it/s]"
     ]
    },
    {
     "name": "stdout",
     "output_type": "stream",
     "text": [
      "7.184676647186279\n",
      "7.101210594177246\n",
      "7.011440753936768\n",
      "7.306685924530029\n",
      "7.4982123374938965\n",
      "7.296459197998047\n"
     ]
    },
    {
     "name": "stderr",
     "output_type": "stream",
     "text": [
      " 16%|█▌        | 489/3067 [00:18<01:33, 27.52it/s]"
     ]
    },
    {
     "name": "stdout",
     "output_type": "stream",
     "text": [
      "7.381337642669678\n",
      "7.1934733390808105\n",
      "7.282243728637695\n",
      "7.094969272613525\n",
      "7.384942531585693\n",
      "6.953706741333008\n"
     ]
    },
    {
     "name": "stderr",
     "output_type": "stream",
     "text": [
      " 16%|█▌        | 495/3067 [00:18<01:32, 27.85it/s]"
     ]
    },
    {
     "name": "stdout",
     "output_type": "stream",
     "text": [
      "7.1082868576049805\n",
      "6.621517658233643\n",
      "6.195267677307129\n",
      "6.627121448516846\n",
      "6.652379989624023\n",
      "7.008434295654297\n"
     ]
    },
    {
     "name": "stderr",
     "output_type": "stream",
     "text": [
      " 16%|█▋        | 501/3067 [00:18<01:32, 27.66it/s]"
     ]
    },
    {
     "name": "stdout",
     "output_type": "stream",
     "text": [
      "6.766683578491211\n",
      "6.815319538116455\n",
      "7.240638732910156\n",
      "6.7274017333984375\n",
      "7.2393927574157715\n",
      "7.185520648956299\n"
     ]
    },
    {
     "name": "stderr",
     "output_type": "stream",
     "text": [
      " 17%|█▋        | 507/3067 [00:18<01:32, 27.78it/s]"
     ]
    },
    {
     "name": "stdout",
     "output_type": "stream",
     "text": [
      "6.845911502838135\n",
      "6.977890968322754\n",
      "7.2078938484191895\n",
      "7.19719934463501\n",
      "7.168853282928467\n",
      "7.071904182434082\n"
     ]
    },
    {
     "name": "stderr",
     "output_type": "stream",
     "text": [
      " 17%|█▋        | 513/3067 [00:19<01:30, 28.09it/s]"
     ]
    },
    {
     "name": "stdout",
     "output_type": "stream",
     "text": [
      "7.360436916351318\n",
      "7.026378154754639\n",
      "6.979913711547852\n",
      "7.146624565124512\n",
      "6.643829822540283\n",
      "7.205207347869873\n"
     ]
    },
    {
     "name": "stderr",
     "output_type": "stream",
     "text": [
      " 17%|█▋        | 519/3067 [00:19<01:30, 28.19it/s]"
     ]
    },
    {
     "name": "stdout",
     "output_type": "stream",
     "text": [
      "7.28499174118042\n",
      "7.117944240570068\n",
      "7.482287406921387\n",
      "7.083247661590576\n",
      "7.243931293487549\n",
      "7.195520401000977\n"
     ]
    },
    {
     "name": "stderr",
     "output_type": "stream",
     "text": [
      " 17%|█▋        | 525/3067 [00:19<01:30, 27.96it/s]"
     ]
    },
    {
     "name": "stdout",
     "output_type": "stream",
     "text": [
      "7.178081035614014\n",
      "6.951708793640137\n",
      "6.819626808166504\n",
      "7.292943477630615\n",
      "7.020939350128174\n",
      "6.799386024475098\n"
     ]
    },
    {
     "name": "stderr",
     "output_type": "stream",
     "text": [
      " 17%|█▋        | 531/3067 [00:19<01:32, 27.48it/s]"
     ]
    },
    {
     "name": "stdout",
     "output_type": "stream",
     "text": [
      "7.151995658874512\n",
      "6.808719158172607\n",
      "7.384859561920166\n",
      "6.615047931671143\n",
      "7.229495525360107\n",
      "7.288632392883301\n"
     ]
    },
    {
     "name": "stderr",
     "output_type": "stream",
     "text": [
      " 18%|█▊        | 537/3067 [00:20<01:31, 27.55it/s]"
     ]
    },
    {
     "name": "stdout",
     "output_type": "stream",
     "text": [
      "7.113885879516602\n",
      "6.863758563995361\n",
      "6.693821907043457\n",
      "6.739639759063721\n",
      "7.325336456298828\n",
      "7.343867778778076\n"
     ]
    },
    {
     "name": "stderr",
     "output_type": "stream",
     "text": [
      " 18%|█▊        | 543/3067 [00:20<01:32, 27.40it/s]"
     ]
    },
    {
     "name": "stdout",
     "output_type": "stream",
     "text": [
      "6.844497203826904\n",
      "7.268744945526123\n",
      "6.754429817199707\n",
      "7.009021282196045\n",
      "7.02663516998291\n",
      "7.437509059906006\n"
     ]
    },
    {
     "name": "stderr",
     "output_type": "stream",
     "text": [
      " 18%|█▊        | 549/3067 [00:20<01:31, 27.57it/s]"
     ]
    },
    {
     "name": "stdout",
     "output_type": "stream",
     "text": [
      "7.361628532409668\n",
      "7.326882839202881\n",
      "7.530784606933594\n",
      "7.570650100708008\n",
      "6.7476325035095215\n",
      "7.320404529571533\n"
     ]
    },
    {
     "name": "stderr",
     "output_type": "stream",
     "text": [
      " 18%|█▊        | 555/3067 [00:20<01:31, 27.56it/s]"
     ]
    },
    {
     "name": "stdout",
     "output_type": "stream",
     "text": [
      "7.249962329864502\n",
      "7.088335990905762\n",
      "7.028935432434082\n",
      "6.81348180770874\n",
      "6.33590841293335\n",
      "6.628378868103027\n"
     ]
    },
    {
     "name": "stderr",
     "output_type": "stream",
     "text": [
      "\r",
      " 18%|█▊        | 558/3067 [00:20<01:36, 26.13it/s]"
     ]
    },
    {
     "name": "stdout",
     "output_type": "stream",
     "text": [
      "6.769138813018799\n",
      "6.673162460327148\n",
      "6.33860969543457\n",
      "6.978789806365967\n",
      "7.083323001861572\n"
     ]
    },
    {
     "name": "stderr",
     "output_type": "stream",
     "text": [
      " 18%|█▊        | 564/3067 [00:21<01:45, 23.78it/s]"
     ]
    },
    {
     "name": "stdout",
     "output_type": "stream",
     "text": [
      "6.6795878410339355\n",
      "6.823952674865723\n",
      "6.600174427032471\n",
      "6.604922294616699\n",
      "7.087464809417725\n"
     ]
    },
    {
     "name": "stderr",
     "output_type": "stream",
     "text": [
      " 19%|█▊        | 570/3067 [00:21<01:41, 24.57it/s]"
     ]
    },
    {
     "name": "stdout",
     "output_type": "stream",
     "text": [
      "7.4546709060668945\n",
      "6.4133806228637695\n",
      "7.404455184936523\n",
      "6.929763317108154\n",
      "7.11845588684082\n",
      "7.253512859344482\n"
     ]
    },
    {
     "name": "stderr",
     "output_type": "stream",
     "text": [
      " 19%|█▉        | 576/3067 [00:21<01:35, 26.17it/s]"
     ]
    },
    {
     "name": "stdout",
     "output_type": "stream",
     "text": [
      "7.11572790145874\n",
      "7.3910698890686035\n",
      "7.0876569747924805\n",
      "7.758756160736084\n",
      "7.997177600860596\n",
      "7.228724002838135\n"
     ]
    },
    {
     "name": "stderr",
     "output_type": "stream",
     "text": [
      " 19%|█▉        | 582/3067 [00:21<01:33, 26.69it/s]"
     ]
    },
    {
     "name": "stdout",
     "output_type": "stream",
     "text": [
      "7.535067081451416\n",
      "7.0827860832214355\n",
      "6.950788974761963\n",
      "6.711130619049072\n",
      "6.9583916664123535\n",
      "7.013339996337891\n"
     ]
    },
    {
     "name": "stderr",
     "output_type": "stream",
     "text": [
      " 19%|█▉        | 588/3067 [00:21<01:31, 27.08it/s]"
     ]
    },
    {
     "name": "stdout",
     "output_type": "stream",
     "text": [
      "7.056065082550049\n",
      "7.052875995635986\n",
      "6.276304721832275\n",
      "6.975406169891357\n",
      "6.377555847167969\n",
      "7.148885250091553\n"
     ]
    },
    {
     "name": "stderr",
     "output_type": "stream",
     "text": [
      " 19%|█▉        | 594/3067 [00:22<01:30, 27.29it/s]"
     ]
    },
    {
     "name": "stdout",
     "output_type": "stream",
     "text": [
      "6.771005630493164\n",
      "6.892618656158447\n",
      "6.62436056137085\n",
      "7.012369632720947\n",
      "6.746216773986816\n",
      "7.261551380157471\n"
     ]
    },
    {
     "name": "stderr",
     "output_type": "stream",
     "text": [
      " 20%|█▉        | 600/3067 [00:22<01:29, 27.45it/s]"
     ]
    },
    {
     "name": "stdout",
     "output_type": "stream",
     "text": [
      "6.776291847229004\n",
      "6.8830485343933105\n",
      "7.291231632232666\n",
      "7.281181335449219\n",
      "7.526244163513184\n",
      "6.758879661560059\n"
     ]
    },
    {
     "name": "stderr",
     "output_type": "stream",
     "text": [
      " 20%|█▉        | 606/3067 [00:22<01:29, 27.35it/s]"
     ]
    },
    {
     "name": "stdout",
     "output_type": "stream",
     "text": [
      "6.828884601593018\n",
      "6.730134010314941\n",
      "6.953763008117676\n",
      "6.834873199462891\n",
      "6.5430426597595215\n",
      "6.918781280517578\n"
     ]
    },
    {
     "name": "stderr",
     "output_type": "stream",
     "text": [
      " 20%|█▉        | 612/3067 [00:22<01:29, 27.35it/s]"
     ]
    },
    {
     "name": "stdout",
     "output_type": "stream",
     "text": [
      "6.610818862915039\n",
      "6.486659526824951\n",
      "7.118538856506348\n",
      "6.476513385772705\n",
      "7.297669410705566\n",
      "7.121487617492676\n"
     ]
    },
    {
     "name": "stderr",
     "output_type": "stream",
     "text": [
      " 20%|██        | 618/3067 [00:23<01:29, 27.32it/s]"
     ]
    },
    {
     "name": "stdout",
     "output_type": "stream",
     "text": [
      "7.50247049331665\n",
      "7.682277679443359\n",
      "7.777660846710205\n",
      "7.61412239074707\n",
      "6.596991539001465\n",
      "7.179330348968506\n"
     ]
    },
    {
     "name": "stderr",
     "output_type": "stream",
     "text": [
      " 20%|██        | 624/3067 [00:23<01:27, 27.77it/s]"
     ]
    },
    {
     "name": "stdout",
     "output_type": "stream",
     "text": [
      "7.287288665771484\n",
      "6.53840446472168\n",
      "6.782018184661865\n",
      "7.013031482696533\n",
      "6.784338474273682\n",
      "6.377932548522949\n"
     ]
    },
    {
     "name": "stderr",
     "output_type": "stream",
     "text": [
      " 21%|██        | 630/3067 [00:23<01:27, 27.90it/s]"
     ]
    },
    {
     "name": "stdout",
     "output_type": "stream",
     "text": [
      "6.955744743347168\n",
      "7.019186973571777\n",
      "6.93759298324585\n",
      "6.6972198486328125\n",
      "6.749948024749756\n",
      "6.420461177825928\n"
     ]
    },
    {
     "name": "stderr",
     "output_type": "stream",
     "text": [
      " 21%|██        | 636/3067 [00:23<01:28, 27.57it/s]"
     ]
    },
    {
     "name": "stdout",
     "output_type": "stream",
     "text": [
      "6.963644981384277\n",
      "6.565889835357666\n",
      "7.148640155792236\n",
      "7.4198760986328125\n",
      "7.444155693054199\n",
      "6.939381122589111\n"
     ]
    },
    {
     "name": "stderr",
     "output_type": "stream",
     "text": [
      " 21%|██        | 642/3067 [00:23<01:27, 27.57it/s]"
     ]
    },
    {
     "name": "stdout",
     "output_type": "stream",
     "text": [
      "6.739283084869385\n",
      "6.9250898361206055\n",
      "6.659573554992676\n",
      "7.593186378479004\n",
      "7.764554977416992\n",
      "7.4990105628967285\n"
     ]
    },
    {
     "name": "stderr",
     "output_type": "stream",
     "text": [
      " 21%|██        | 648/3067 [00:24<01:28, 27.47it/s]"
     ]
    },
    {
     "name": "stdout",
     "output_type": "stream",
     "text": [
      "7.308034896850586\n",
      "6.62581729888916\n",
      "6.713700771331787\n",
      "6.4320220947265625\n",
      "6.839917182922363\n",
      "6.444027423858643\n"
     ]
    },
    {
     "name": "stderr",
     "output_type": "stream",
     "text": [
      " 21%|██▏       | 654/3067 [00:24<01:27, 27.50it/s]"
     ]
    },
    {
     "name": "stdout",
     "output_type": "stream",
     "text": [
      "6.854189872741699\n",
      "6.835569858551025\n",
      "6.889197826385498\n",
      "6.638384819030762\n",
      "7.101066589355469\n",
      "6.922006607055664\n"
     ]
    },
    {
     "name": "stderr",
     "output_type": "stream",
     "text": [
      " 22%|██▏       | 660/3067 [00:24<01:28, 27.19it/s]"
     ]
    },
    {
     "name": "stdout",
     "output_type": "stream",
     "text": [
      "7.004229545593262\n",
      "7.059360980987549\n",
      "6.638675689697266\n",
      "6.745578765869141\n",
      "7.173311710357666\n",
      "7.138374328613281\n"
     ]
    },
    {
     "name": "stderr",
     "output_type": "stream",
     "text": [
      " 22%|██▏       | 666/3067 [00:24<01:28, 27.24it/s]"
     ]
    },
    {
     "name": "stdout",
     "output_type": "stream",
     "text": [
      "6.683804512023926\n",
      "6.573286533355713\n",
      "6.813552379608154\n",
      "6.452731132507324\n",
      "6.497818470001221\n",
      "6.472104549407959\n"
     ]
    },
    {
     "name": "stderr",
     "output_type": "stream",
     "text": [
      " 22%|██▏       | 672/3067 [00:25<01:27, 27.31it/s]"
     ]
    },
    {
     "name": "stdout",
     "output_type": "stream",
     "text": [
      "6.633322238922119\n",
      "5.946397304534912\n",
      "6.177862644195557\n",
      "6.030464172363281\n",
      "6.743636608123779\n",
      "6.432736396789551\n"
     ]
    },
    {
     "name": "stderr",
     "output_type": "stream",
     "text": [
      " 22%|██▏       | 678/3067 [00:25<01:26, 27.74it/s]"
     ]
    },
    {
     "name": "stdout",
     "output_type": "stream",
     "text": [
      "6.421133518218994\n",
      "6.196516990661621\n",
      "6.155493259429932\n",
      "6.455629825592041\n",
      "7.492204666137695\n",
      "7.211673259735107\n"
     ]
    },
    {
     "name": "stderr",
     "output_type": "stream",
     "text": [
      " 22%|██▏       | 684/3067 [00:25<01:25, 28.03it/s]"
     ]
    },
    {
     "name": "stdout",
     "output_type": "stream",
     "text": [
      "7.6541523933410645\n",
      "7.523744106292725\n",
      "7.200624942779541\n",
      "7.640733242034912\n",
      "6.5891008377075195\n",
      "6.878788471221924\n"
     ]
    },
    {
     "name": "stderr",
     "output_type": "stream",
     "text": [
      " 22%|██▏       | 690/3067 [00:25<01:25, 27.91it/s]"
     ]
    },
    {
     "name": "stdout",
     "output_type": "stream",
     "text": [
      "6.998359680175781\n",
      "6.427016735076904\n",
      "6.811880111694336\n",
      "6.7932538986206055\n",
      "5.882728576660156\n",
      "6.792843341827393\n"
     ]
    },
    {
     "name": "stderr",
     "output_type": "stream",
     "text": [
      " 23%|██▎       | 696/3067 [00:25<01:25, 27.77it/s]"
     ]
    },
    {
     "name": "stdout",
     "output_type": "stream",
     "text": [
      "6.525893688201904\n",
      "7.1573991775512695\n",
      "6.866609573364258\n",
      "6.6330342292785645\n",
      "6.642955303192139\n",
      "6.44917106628418\n"
     ]
    },
    {
     "name": "stderr",
     "output_type": "stream",
     "text": [
      " 23%|██▎       | 702/3067 [00:26<01:25, 27.56it/s]"
     ]
    },
    {
     "name": "stdout",
     "output_type": "stream",
     "text": [
      "6.836855888366699\n",
      "6.796299457550049\n",
      "6.6121296882629395\n",
      "6.838917255401611\n",
      "6.169418811798096\n",
      "6.366611957550049\n"
     ]
    },
    {
     "name": "stderr",
     "output_type": "stream",
     "text": [
      " 23%|██▎       | 708/3067 [00:26<01:25, 27.61it/s]"
     ]
    },
    {
     "name": "stdout",
     "output_type": "stream",
     "text": [
      "6.875940322875977\n",
      "6.454557418823242\n",
      "7.085684776306152\n",
      "6.47819185256958\n",
      "6.936237812042236\n",
      "6.660121440887451\n"
     ]
    },
    {
     "name": "stderr",
     "output_type": "stream",
     "text": [
      " 23%|██▎       | 714/3067 [00:26<01:25, 27.65it/s]"
     ]
    },
    {
     "name": "stdout",
     "output_type": "stream",
     "text": [
      "7.522414684295654\n",
      "6.606205940246582\n",
      "6.381170749664307\n",
      "6.91072940826416\n",
      "6.80124568939209\n",
      "6.5524444580078125\n"
     ]
    },
    {
     "name": "stderr",
     "output_type": "stream",
     "text": [
      " 23%|██▎       | 720/3067 [00:26<01:25, 27.34it/s]"
     ]
    },
    {
     "name": "stdout",
     "output_type": "stream",
     "text": [
      "6.658936977386475\n",
      "6.847827911376953\n",
      "6.51037073135376\n",
      "7.220186710357666\n",
      "7.488335609436035\n",
      "7.557906150817871\n"
     ]
    },
    {
     "name": "stderr",
     "output_type": "stream",
     "text": [
      " 24%|██▎       | 726/3067 [00:27<01:25, 27.26it/s]"
     ]
    },
    {
     "name": "stdout",
     "output_type": "stream",
     "text": [
      "6.880808353424072\n",
      "6.5644330978393555\n",
      "7.445258140563965\n",
      "6.845418930053711\n",
      "6.897785186767578\n",
      "6.730360507965088\n"
     ]
    },
    {
     "name": "stderr",
     "output_type": "stream",
     "text": [
      " 24%|██▍       | 732/3067 [00:27<01:24, 27.76it/s]"
     ]
    },
    {
     "name": "stdout",
     "output_type": "stream",
     "text": [
      "7.127547740936279\n",
      "7.812588691711426\n",
      "7.903614521026611\n",
      "7.781464099884033\n",
      "7.89257287979126\n",
      "8.061613082885742\n"
     ]
    },
    {
     "name": "stderr",
     "output_type": "stream",
     "text": [
      " 24%|██▍       | 738/3067 [00:27<01:22, 28.08it/s]"
     ]
    },
    {
     "name": "stdout",
     "output_type": "stream",
     "text": [
      "7.815157890319824\n",
      "7.506087779998779\n",
      "7.357337474822998\n",
      "7.681474208831787\n",
      "7.459514141082764\n",
      "7.808619022369385\n"
     ]
    },
    {
     "name": "stderr",
     "output_type": "stream",
     "text": [
      " 24%|██▍       | 744/3067 [00:27<01:24, 27.63it/s]"
     ]
    },
    {
     "name": "stdout",
     "output_type": "stream",
     "text": [
      "7.664599418640137\n",
      "7.559362411499023\n",
      "6.98153018951416\n",
      "6.641825199127197\n",
      "6.598851680755615\n",
      "6.660633563995361\n"
     ]
    },
    {
     "name": "stderr",
     "output_type": "stream",
     "text": [
      " 24%|██▍       | 750/3067 [00:27<01:24, 27.53it/s]"
     ]
    },
    {
     "name": "stdout",
     "output_type": "stream",
     "text": [
      "6.605522632598877\n",
      "7.264827251434326\n",
      "7.367082595825195\n",
      "6.246138095855713\n",
      "6.516887664794922\n",
      "6.717310905456543\n"
     ]
    },
    {
     "name": "stderr",
     "output_type": "stream",
     "text": [
      " 25%|██▍       | 756/3067 [00:28<01:23, 27.63it/s]"
     ]
    },
    {
     "name": "stdout",
     "output_type": "stream",
     "text": [
      "6.5927734375\n",
      "6.710460186004639\n",
      "6.575728416442871\n",
      "6.741456031799316\n",
      "6.595818519592285\n",
      "6.928247451782227\n"
     ]
    },
    {
     "name": "stderr",
     "output_type": "stream",
     "text": [
      " 25%|██▍       | 762/3067 [00:28<01:24, 27.39it/s]"
     ]
    },
    {
     "name": "stdout",
     "output_type": "stream",
     "text": [
      "7.362277507781982\n",
      "7.1733078956604\n",
      "6.919317245483398\n",
      "7.110893249511719\n",
      "6.509298324584961\n",
      "6.49759578704834\n"
     ]
    },
    {
     "name": "stderr",
     "output_type": "stream",
     "text": [
      " 25%|██▌       | 768/3067 [00:28<01:24, 27.36it/s]"
     ]
    },
    {
     "name": "stdout",
     "output_type": "stream",
     "text": [
      "6.324762344360352\n",
      "6.88248348236084\n",
      "6.1406779289245605\n",
      "6.124805450439453\n",
      "7.582627773284912\n",
      "6.743368625640869\n"
     ]
    },
    {
     "name": "stderr",
     "output_type": "stream",
     "text": [
      " 25%|██▌       | 774/3067 [00:28<01:23, 27.34it/s]"
     ]
    },
    {
     "name": "stdout",
     "output_type": "stream",
     "text": [
      "6.477532386779785\n",
      "6.998680591583252\n",
      "6.658486366271973\n",
      "5.621654987335205\n",
      "6.400827407836914\n",
      "6.82301139831543\n"
     ]
    },
    {
     "name": "stderr",
     "output_type": "stream",
     "text": [
      " 25%|██▌       | 780/3067 [00:28<01:23, 27.42it/s]"
     ]
    },
    {
     "name": "stdout",
     "output_type": "stream",
     "text": [
      "7.03243350982666\n",
      "6.510814189910889\n",
      "6.658120155334473\n",
      "6.994429588317871\n",
      "7.49168586730957\n",
      "6.804843425750732\n"
     ]
    },
    {
     "name": "stderr",
     "output_type": "stream",
     "text": [
      " 26%|██▌       | 786/3067 [00:29<01:22, 27.72it/s]"
     ]
    },
    {
     "name": "stdout",
     "output_type": "stream",
     "text": [
      "6.89496374130249\n",
      "6.8118720054626465\n",
      "6.670864105224609\n",
      "6.504451274871826\n",
      "7.1538920402526855\n",
      "7.41146183013916\n"
     ]
    },
    {
     "name": "stderr",
     "output_type": "stream",
     "text": [
      " 26%|██▌       | 792/3067 [00:29<01:21, 28.08it/s]"
     ]
    },
    {
     "name": "stdout",
     "output_type": "stream",
     "text": [
      "6.602082252502441\n",
      "6.906398296356201\n",
      "6.67263126373291\n",
      "6.607592582702637\n",
      "6.794682502746582\n",
      "6.724506855010986\n"
     ]
    },
    {
     "name": "stderr",
     "output_type": "stream",
     "text": [
      " 26%|██▌       | 798/3067 [00:29<01:21, 27.75it/s]"
     ]
    },
    {
     "name": "stdout",
     "output_type": "stream",
     "text": [
      "7.390016078948975\n",
      "6.901717662811279\n",
      "6.638521194458008\n",
      "6.995872497558594\n",
      "6.77911901473999\n",
      "6.596500873565674\n"
     ]
    },
    {
     "name": "stderr",
     "output_type": "stream",
     "text": [
      " 26%|██▌       | 804/3067 [00:29<01:21, 27.80it/s]"
     ]
    },
    {
     "name": "stdout",
     "output_type": "stream",
     "text": [
      "6.8915863037109375\n",
      "6.173670291900635\n",
      "6.586017608642578\n",
      "6.476062774658203\n",
      "7.0479254722595215\n",
      "6.917520523071289\n"
     ]
    },
    {
     "name": "stderr",
     "output_type": "stream",
     "text": [
      " 26%|██▋       | 810/3067 [00:30<01:27, 25.79it/s]"
     ]
    },
    {
     "name": "stdout",
     "output_type": "stream",
     "text": [
      "6.808950424194336\n",
      "6.883477210998535\n",
      "7.433052062988281\n",
      "6.991391181945801\n",
      "7.2409348487854\n"
     ]
    },
    {
     "name": "stderr",
     "output_type": "stream",
     "text": [
      " 27%|██▋       | 816/3067 [00:30<01:25, 26.26it/s]"
     ]
    },
    {
     "name": "stdout",
     "output_type": "stream",
     "text": [
      "7.4176836013793945\n",
      "7.185135841369629\n",
      "7.858912467956543\n",
      "7.2644147872924805\n",
      "7.234118461608887\n",
      "7.021817684173584\n"
     ]
    },
    {
     "name": "stderr",
     "output_type": "stream",
     "text": [
      "\r",
      " 27%|██▋       | 819/3067 [00:30<01:27, 25.73it/s]"
     ]
    },
    {
     "name": "stdout",
     "output_type": "stream",
     "text": [
      "7.333418369293213\n",
      "7.225833892822266\n",
      "7.312292098999023\n",
      "7.567471027374268\n",
      "7.248058795928955\n",
      "7.23801326751709\n"
     ]
    },
    {
     "name": "stderr",
     "output_type": "stream",
     "text": [
      " 27%|██▋       | 828/3067 [00:30<01:20, 27.70it/s]"
     ]
    },
    {
     "name": "stdout",
     "output_type": "stream",
     "text": [
      "7.138555526733398\n",
      "7.180970668792725\n",
      "7.255601406097412\n",
      "7.081310272216797\n",
      "6.756740093231201\n",
      "7.124137878417969\n"
     ]
    },
    {
     "name": "stderr",
     "output_type": "stream",
     "text": [
      " 27%|██▋       | 834/3067 [00:30<01:20, 27.89it/s]"
     ]
    },
    {
     "name": "stdout",
     "output_type": "stream",
     "text": [
      "7.0717291831970215\n",
      "6.840466499328613\n",
      "6.820370674133301\n",
      "7.0184712409973145\n",
      "6.996946811676025\n",
      "7.238999843597412\n"
     ]
    },
    {
     "name": "stderr",
     "output_type": "stream",
     "text": [
      " 27%|██▋       | 840/3067 [00:31<01:18, 28.43it/s]"
     ]
    },
    {
     "name": "stdout",
     "output_type": "stream",
     "text": [
      "6.880030632019043\n",
      "6.715688705444336\n",
      "6.856291770935059\n",
      "6.960330009460449\n",
      "7.211930751800537\n",
      "6.854538440704346\n"
     ]
    },
    {
     "name": "stderr",
     "output_type": "stream",
     "text": [
      "\r",
      " 27%|██▋       | 843/3067 [00:31<01:17, 28.79it/s]"
     ]
    },
    {
     "name": "stdout",
     "output_type": "stream",
     "text": [
      "7.213624477386475\n",
      "7.02888298034668\n",
      "7.611917018890381\n",
      "7.445981979370117\n",
      "7.520473480224609\n",
      "7.086947441101074\n",
      "6.639440536499023\n"
     ]
    },
    {
     "name": "stderr",
     "output_type": "stream",
     "text": [
      " 28%|██▊       | 853/3067 [00:31<01:16, 29.02it/s]"
     ]
    },
    {
     "name": "stdout",
     "output_type": "stream",
     "text": [
      "7.059268951416016\n",
      "7.603572845458984\n",
      "6.952996730804443\n",
      "7.14182186126709\n",
      "7.6402435302734375\n",
      "7.875209808349609\n"
     ]
    },
    {
     "name": "stderr",
     "output_type": "stream",
     "text": [
      " 28%|██▊       | 859/3067 [00:31<01:17, 28.63it/s]"
     ]
    },
    {
     "name": "stdout",
     "output_type": "stream",
     "text": [
      "7.43424129486084\n",
      "6.840805530548096\n",
      "6.959761142730713\n",
      "7.25927209854126\n",
      "7.645411491394043\n",
      "6.924511909484863\n"
     ]
    },
    {
     "name": "stderr",
     "output_type": "stream",
     "text": [
      " 28%|██▊       | 865/3067 [00:32<01:16, 28.65it/s]"
     ]
    },
    {
     "name": "stdout",
     "output_type": "stream",
     "text": [
      "7.134923934936523\n",
      "7.169003486633301\n",
      "7.128053665161133\n",
      "6.781444072723389\n",
      "6.97200345993042\n",
      "7.540846347808838\n"
     ]
    },
    {
     "name": "stderr",
     "output_type": "stream",
     "text": [
      " 28%|██▊       | 871/3067 [00:32<01:17, 28.36it/s]"
     ]
    },
    {
     "name": "stdout",
     "output_type": "stream",
     "text": [
      "7.201838493347168\n",
      "7.078114032745361\n",
      "7.194410800933838\n",
      "6.971173286437988\n",
      "7.048445224761963\n",
      "6.977704048156738\n"
     ]
    },
    {
     "name": "stderr",
     "output_type": "stream",
     "text": [
      " 29%|██▊       | 877/3067 [00:32<01:17, 28.29it/s]"
     ]
    },
    {
     "name": "stdout",
     "output_type": "stream",
     "text": [
      "6.9264068603515625\n",
      "6.621124744415283\n",
      "6.892584323883057\n",
      "7.159613609313965\n",
      "6.911037921905518\n",
      "7.19600248336792\n"
     ]
    },
    {
     "name": "stderr",
     "output_type": "stream",
     "text": [
      " 29%|██▉       | 883/3067 [00:32<01:17, 28.29it/s]"
     ]
    },
    {
     "name": "stdout",
     "output_type": "stream",
     "text": [
      "7.428389549255371\n",
      "7.059628009796143\n",
      "7.0741424560546875\n",
      "7.34942102432251\n",
      "7.146404266357422\n",
      "7.494980335235596\n"
     ]
    },
    {
     "name": "stderr",
     "output_type": "stream",
     "text": [
      " 29%|██▉       | 889/3067 [00:32<01:16, 28.33it/s]"
     ]
    },
    {
     "name": "stdout",
     "output_type": "stream",
     "text": [
      "7.634756088256836\n",
      "7.369699954986572\n",
      "7.555758953094482\n",
      "7.394323348999023\n",
      "7.267117023468018\n",
      "7.267397880554199\n"
     ]
    },
    {
     "name": "stderr",
     "output_type": "stream",
     "text": [
      " 29%|██▉       | 895/3067 [00:33<01:17, 28.18it/s]"
     ]
    },
    {
     "name": "stdout",
     "output_type": "stream",
     "text": [
      "6.85371208190918\n",
      "7.3451948165893555\n",
      "6.877477645874023\n",
      "7.016312599182129\n",
      "7.175535202026367\n",
      "7.027527332305908\n"
     ]
    },
    {
     "name": "stderr",
     "output_type": "stream",
     "text": [
      "\r",
      " 29%|██▉       | 898/3067 [00:33<01:16, 28.53it/s]"
     ]
    },
    {
     "name": "stdout",
     "output_type": "stream",
     "text": [
      "7.346688747406006\n",
      "7.00963830947876\n",
      "7.200922966003418\n",
      "6.983333110809326\n",
      "7.283430099487305\n",
      "7.316894054412842\n",
      "7.561481475830078\n"
     ]
    },
    {
     "name": "stderr",
     "output_type": "stream",
     "text": [
      " 30%|██▉       | 908/3067 [00:33<01:14, 28.94it/s]"
     ]
    },
    {
     "name": "stdout",
     "output_type": "stream",
     "text": [
      "6.891330718994141\n",
      "7.358784198760986\n",
      "7.689448356628418\n",
      "7.057904243469238\n",
      "7.200878620147705\n",
      "7.141456127166748\n"
     ]
    },
    {
     "name": "stderr",
     "output_type": "stream",
     "text": [
      " 30%|██▉       | 914/3067 [00:33<01:14, 28.81it/s]"
     ]
    },
    {
     "name": "stdout",
     "output_type": "stream",
     "text": [
      "7.313822269439697\n",
      "7.224501609802246\n",
      "7.177417755126953\n",
      "6.938973426818848\n",
      "6.9813947677612305\n",
      "7.03466272354126\n"
     ]
    },
    {
     "name": "stderr",
     "output_type": "stream",
     "text": [
      " 30%|██▉       | 920/3067 [00:33<01:15, 28.62it/s]"
     ]
    },
    {
     "name": "stdout",
     "output_type": "stream",
     "text": [
      "7.033402919769287\n",
      "7.2006635665893555\n",
      "7.084808349609375\n",
      "6.857852458953857\n",
      "7.0197930335998535\n",
      "7.012902736663818\n"
     ]
    },
    {
     "name": "stderr",
     "output_type": "stream",
     "text": [
      " 30%|███       | 926/3067 [00:34<01:15, 28.44it/s]"
     ]
    },
    {
     "name": "stdout",
     "output_type": "stream",
     "text": [
      "7.104922294616699\n",
      "7.328573703765869\n",
      "7.2471818923950195\n",
      "7.157466888427734\n",
      "7.21978759765625\n",
      "7.168809413909912\n"
     ]
    },
    {
     "name": "stderr",
     "output_type": "stream",
     "text": [
      " 30%|███       | 932/3067 [00:34<01:14, 28.59it/s]"
     ]
    },
    {
     "name": "stdout",
     "output_type": "stream",
     "text": [
      "7.345089435577393\n",
      "7.384888648986816\n",
      "7.28692102432251\n",
      "7.078056812286377\n",
      "7.353608131408691\n",
      "7.9299092292785645\n"
     ]
    },
    {
     "name": "stderr",
     "output_type": "stream",
     "text": [
      " 31%|███       | 938/3067 [00:34<01:14, 28.42it/s]"
     ]
    },
    {
     "name": "stdout",
     "output_type": "stream",
     "text": [
      "7.767717361450195\n",
      "8.060107231140137\n",
      "7.653263092041016\n",
      "6.940140247344971\n",
      "7.43613338470459\n",
      "6.6431474685668945\n"
     ]
    },
    {
     "name": "stderr",
     "output_type": "stream",
     "text": [
      " 31%|███       | 944/3067 [00:34<01:14, 28.47it/s]"
     ]
    },
    {
     "name": "stdout",
     "output_type": "stream",
     "text": [
      "6.915516376495361\n",
      "6.512903690338135\n",
      "6.598506450653076\n",
      "6.603026390075684\n",
      "6.5438642501831055\n",
      "6.8623433113098145\n"
     ]
    },
    {
     "name": "stderr",
     "output_type": "stream",
     "text": [
      " 31%|███       | 950/3067 [00:35<01:14, 28.48it/s]"
     ]
    },
    {
     "name": "stdout",
     "output_type": "stream",
     "text": [
      "7.120821952819824\n",
      "7.249856948852539\n",
      "7.009744167327881\n",
      "6.845808506011963\n",
      "6.9079999923706055\n",
      "6.888144016265869\n"
     ]
    },
    {
     "name": "stderr",
     "output_type": "stream",
     "text": [
      "\r",
      " 31%|███       | 953/3067 [00:35<01:15, 28.18it/s]"
     ]
    },
    {
     "name": "stdout",
     "output_type": "stream",
     "text": [
      "7.033262729644775\n",
      "6.858011245727539\n",
      "7.319046974182129\n",
      "6.976011753082275\n",
      "7.032817840576172\n",
      "6.988146781921387\n"
     ]
    },
    {
     "name": "stderr",
     "output_type": "stream",
     "text": [
      " 31%|███▏      | 960/3067 [00:35<01:12, 29.07it/s]"
     ]
    },
    {
     "name": "stdout",
     "output_type": "stream",
     "text": [
      "7.214970588684082\n",
      "6.978724956512451\n",
      "7.3142595291137695\n",
      "7.880119800567627\n",
      "7.729440212249756\n",
      "8.176873207092285\n"
     ]
    },
    {
     "name": "stderr",
     "output_type": "stream",
     "text": [
      " 31%|███▏      | 966/3067 [00:35<01:12, 29.12it/s]"
     ]
    },
    {
     "name": "stdout",
     "output_type": "stream",
     "text": [
      "7.327520370483398\n",
      "7.876506805419922\n",
      "7.207040309906006\n",
      "6.981900691986084\n",
      "7.386040687561035\n",
      "7.104945182800293\n"
     ]
    },
    {
     "name": "stderr",
     "output_type": "stream",
     "text": [
      " 32%|███▏      | 972/3067 [00:35<01:13, 28.69it/s]"
     ]
    },
    {
     "name": "stdout",
     "output_type": "stream",
     "text": [
      "7.1587982177734375\n",
      "6.866250514984131\n",
      "6.738124847412109\n",
      "7.1235175132751465\n",
      "6.9123454093933105\n",
      "7.21781063079834\n"
     ]
    },
    {
     "name": "stderr",
     "output_type": "stream",
     "text": [
      " 32%|███▏      | 978/3067 [00:36<01:13, 28.42it/s]"
     ]
    },
    {
     "name": "stdout",
     "output_type": "stream",
     "text": [
      "7.0189032554626465\n",
      "6.930149555206299\n",
      "7.4307332038879395\n",
      "7.458836555480957\n",
      "7.577439308166504\n",
      "7.072604179382324\n"
     ]
    },
    {
     "name": "stderr",
     "output_type": "stream",
     "text": [
      " 32%|███▏      | 984/3067 [00:36<01:13, 28.44it/s]"
     ]
    },
    {
     "name": "stdout",
     "output_type": "stream",
     "text": [
      "7.002283096313477\n",
      "7.333263874053955\n",
      "7.536128520965576\n",
      "7.279560565948486\n",
      "7.667104244232178\n",
      "7.053811550140381\n"
     ]
    },
    {
     "name": "stderr",
     "output_type": "stream",
     "text": [
      " 32%|███▏      | 990/3067 [00:36<01:13, 28.39it/s]"
     ]
    },
    {
     "name": "stdout",
     "output_type": "stream",
     "text": [
      "7.226207256317139\n",
      "7.21420955657959\n",
      "6.8051323890686035\n",
      "7.737993240356445\n",
      "7.059700012207031\n",
      "7.352468967437744\n"
     ]
    },
    {
     "name": "stderr",
     "output_type": "stream",
     "text": [
      " 32%|███▏      | 996/3067 [00:36<01:13, 28.09it/s]"
     ]
    },
    {
     "name": "stdout",
     "output_type": "stream",
     "text": [
      "7.31705379486084\n",
      "7.006716728210449\n",
      "7.491774082183838\n",
      "7.2673516273498535\n",
      "7.540071487426758\n",
      "7.5395121574401855\n"
     ]
    },
    {
     "name": "stderr",
     "output_type": "stream",
     "text": [
      " 33%|███▎      | 1002/3067 [00:36<01:13, 28.09it/s]"
     ]
    },
    {
     "name": "stdout",
     "output_type": "stream",
     "text": [
      "7.5155930519104\n",
      "6.787608623504639\n",
      "7.156711578369141\n",
      "7.333491325378418\n",
      "7.967586517333984\n",
      "7.757471561431885\n"
     ]
    },
    {
     "name": "stderr",
     "output_type": "stream",
     "text": [
      " 33%|███▎      | 1008/3067 [00:37<01:13, 28.15it/s]"
     ]
    },
    {
     "name": "stdout",
     "output_type": "stream",
     "text": [
      "7.583176136016846\n",
      "6.929591655731201\n",
      "6.786013126373291\n",
      "6.853292942047119\n",
      "7.1211419105529785\n",
      "7.179972171783447\n"
     ]
    },
    {
     "name": "stderr",
     "output_type": "stream",
     "text": [
      " 33%|███▎      | 1015/3067 [00:37<01:11, 28.89it/s]"
     ]
    },
    {
     "name": "stdout",
     "output_type": "stream",
     "text": [
      "7.046530246734619\n",
      "7.003080368041992\n",
      "7.118095874786377\n",
      "7.116402626037598\n",
      "7.1699137687683105\n",
      "6.780617713928223\n"
     ]
    },
    {
     "name": "stderr",
     "output_type": "stream",
     "text": [
      " 33%|███▎      | 1021/3067 [00:37<01:10, 28.83it/s]"
     ]
    },
    {
     "name": "stdout",
     "output_type": "stream",
     "text": [
      "7.059643745422363\n",
      "6.776889801025391\n",
      "6.99649715423584\n",
      "7.085307598114014\n",
      "7.263893127441406\n",
      "7.163756370544434\n",
      "7.425641059875488\n"
     ]
    },
    {
     "name": "stderr",
     "output_type": "stream",
     "text": [
      " 33%|███▎      | 1027/3067 [00:37<01:11, 28.61it/s]"
     ]
    },
    {
     "name": "stdout",
     "output_type": "stream",
     "text": [
      "7.538780212402344\n",
      "7.14700984954834\n",
      "7.442085266113281\n",
      "7.326911449432373\n",
      "7.263511657714844\n",
      "7.138611316680908\n"
     ]
    },
    {
     "name": "stderr",
     "output_type": "stream",
     "text": [
      " 34%|███▎      | 1033/3067 [00:37<01:11, 28.55it/s]"
     ]
    },
    {
     "name": "stdout",
     "output_type": "stream",
     "text": [
      "6.945833683013916\n",
      "7.441471576690674\n",
      "7.028146266937256\n",
      "7.165112018585205\n",
      "6.716310024261475\n",
      "6.944724082946777\n"
     ]
    },
    {
     "name": "stderr",
     "output_type": "stream",
     "text": [
      " 34%|███▍      | 1039/3067 [00:38<01:11, 28.53it/s]"
     ]
    },
    {
     "name": "stdout",
     "output_type": "stream",
     "text": [
      "7.0916876792907715\n",
      "7.133260250091553\n",
      "6.881229877471924\n",
      "6.907866954803467\n",
      "7.0659990310668945\n",
      "6.982815265655518\n"
     ]
    },
    {
     "name": "stderr",
     "output_type": "stream",
     "text": [
      " 34%|███▍      | 1045/3067 [00:38<01:11, 28.28it/s]"
     ]
    },
    {
     "name": "stdout",
     "output_type": "stream",
     "text": [
      "6.628712177276611\n",
      "6.348040580749512\n",
      "6.8112053871154785\n",
      "6.987013339996338\n",
      "7.172206878662109\n",
      "7.258649826049805\n"
     ]
    },
    {
     "name": "stderr",
     "output_type": "stream",
     "text": [
      " 34%|███▍      | 1051/3067 [00:38<01:11, 28.04it/s]"
     ]
    },
    {
     "name": "stdout",
     "output_type": "stream",
     "text": [
      "7.126915454864502\n",
      "6.877353668212891\n",
      "6.9902753829956055\n",
      "6.998642444610596\n",
      "7.195681095123291\n",
      "6.908790588378906\n"
     ]
    },
    {
     "name": "stderr",
     "output_type": "stream",
     "text": [
      " 34%|███▍      | 1057/3067 [00:38<01:11, 28.12it/s]"
     ]
    },
    {
     "name": "stdout",
     "output_type": "stream",
     "text": [
      "7.146337032318115\n",
      "6.84251594543457\n",
      "6.643519401550293\n",
      "6.367578983306885\n",
      "6.712424278259277\n",
      "7.573085308074951\n"
     ]
    },
    {
     "name": "stderr",
     "output_type": "stream",
     "text": [
      " 35%|███▍      | 1063/3067 [00:38<01:11, 28.08it/s]"
     ]
    },
    {
     "name": "stdout",
     "output_type": "stream",
     "text": [
      "7.547338485717773\n",
      "7.705163955688477\n",
      "7.062264442443848\n",
      "7.013302803039551\n",
      "7.134483337402344\n",
      "7.515313148498535\n"
     ]
    },
    {
     "name": "stderr",
     "output_type": "stream",
     "text": [
      " 35%|███▍      | 1069/3067 [00:39<01:10, 28.27it/s]"
     ]
    },
    {
     "name": "stdout",
     "output_type": "stream",
     "text": [
      "7.7252936363220215\n",
      "7.2662272453308105\n",
      "7.188744068145752\n",
      "7.531616687774658\n",
      "6.737086296081543\n",
      "6.925603866577148\n"
     ]
    },
    {
     "name": "stderr",
     "output_type": "stream",
     "text": [
      " 35%|███▌      | 1075/3067 [00:39<01:09, 28.86it/s]"
     ]
    },
    {
     "name": "stdout",
     "output_type": "stream",
     "text": [
      "7.07838249206543\n",
      "7.272069931030273\n",
      "6.861649990081787\n",
      "6.961906433105469\n",
      "7.048538684844971\n",
      "7.074454307556152\n"
     ]
    },
    {
     "name": "stderr",
     "output_type": "stream",
     "text": [
      " 35%|███▌      | 1081/3067 [00:39<01:09, 28.53it/s]"
     ]
    },
    {
     "name": "stdout",
     "output_type": "stream",
     "text": [
      "7.057804107666016\n",
      "7.075133800506592\n",
      "6.7106614112854\n",
      "6.751514911651611\n",
      "6.6501569747924805\n",
      "7.458198547363281\n"
     ]
    },
    {
     "name": "stderr",
     "output_type": "stream",
     "text": [
      " 35%|███▌      | 1087/3067 [00:39<01:09, 28.31it/s]"
     ]
    },
    {
     "name": "stdout",
     "output_type": "stream",
     "text": [
      "6.533697605133057\n",
      "7.464766502380371\n",
      "7.074860572814941\n",
      "7.254257678985596\n",
      "7.156742095947266\n",
      "7.176387310028076\n"
     ]
    },
    {
     "name": "stderr",
     "output_type": "stream",
     "text": [
      " 36%|███▌      | 1093/3067 [00:40<01:09, 28.40it/s]"
     ]
    },
    {
     "name": "stdout",
     "output_type": "stream",
     "text": [
      "7.836759567260742\n",
      "7.280224800109863\n",
      "7.305675029754639\n",
      "7.107627868652344\n",
      "7.562613487243652\n",
      "6.94064474105835\n"
     ]
    },
    {
     "name": "stderr",
     "output_type": "stream",
     "text": [
      " 36%|███▌      | 1099/3067 [00:40<01:09, 28.33it/s]"
     ]
    },
    {
     "name": "stdout",
     "output_type": "stream",
     "text": [
      "6.834099769592285\n",
      "7.385196208953857\n",
      "7.183444499969482\n",
      "7.040517807006836\n",
      "7.263607501983643\n",
      "6.841508865356445\n"
     ]
    },
    {
     "name": "stderr",
     "output_type": "stream",
     "text": [
      " 36%|███▌      | 1105/3067 [00:40<01:09, 28.26it/s]"
     ]
    },
    {
     "name": "stdout",
     "output_type": "stream",
     "text": [
      "7.264205455780029\n",
      "7.329617977142334\n",
      "7.540126323699951\n",
      "7.6587629318237305\n",
      "7.337897777557373\n",
      "7.661261558532715\n"
     ]
    },
    {
     "name": "stderr",
     "output_type": "stream",
     "text": [
      " 36%|███▌      | 1111/3067 [00:40<01:09, 28.18it/s]"
     ]
    },
    {
     "name": "stdout",
     "output_type": "stream",
     "text": [
      "7.142679691314697\n",
      "7.22177791595459\n",
      "7.45812463760376\n",
      "6.82031774520874\n",
      "6.747217178344727\n",
      "7.3787150382995605\n"
     ]
    },
    {
     "name": "stderr",
     "output_type": "stream",
     "text": [
      " 36%|███▋      | 1117/3067 [00:40<01:08, 28.39it/s]"
     ]
    },
    {
     "name": "stdout",
     "output_type": "stream",
     "text": [
      "6.813163757324219\n",
      "7.1259565353393555\n",
      "7.75889778137207\n",
      "7.318386554718018\n",
      "7.026185035705566\n",
      "7.091220855712891\n"
     ]
    },
    {
     "name": "stderr",
     "output_type": "stream",
     "text": [
      " 37%|███▋      | 1123/3067 [00:41<01:08, 28.31it/s]"
     ]
    },
    {
     "name": "stdout",
     "output_type": "stream",
     "text": [
      "6.939315319061279\n",
      "7.140193939208984\n",
      "7.110363006591797\n",
      "7.304414749145508\n",
      "7.239758014678955\n",
      "7.143058776855469\n"
     ]
    },
    {
     "name": "stderr",
     "output_type": "stream",
     "text": [
      " 37%|███▋      | 1129/3067 [00:41<01:07, 28.85it/s]"
     ]
    },
    {
     "name": "stdout",
     "output_type": "stream",
     "text": [
      "7.105771541595459\n",
      "7.101214408874512\n",
      "7.082165718078613\n",
      "7.2423200607299805\n",
      "6.934327125549316\n",
      "7.506722450256348\n"
     ]
    },
    {
     "name": "stderr",
     "output_type": "stream",
     "text": [
      " 37%|███▋      | 1135/3067 [00:41<01:07, 28.66it/s]"
     ]
    },
    {
     "name": "stdout",
     "output_type": "stream",
     "text": [
      "6.990617752075195\n",
      "7.4015212059021\n",
      "6.95375394821167\n",
      "7.2252655029296875\n",
      "7.072953701019287\n",
      "6.901165962219238\n"
     ]
    },
    {
     "name": "stderr",
     "output_type": "stream",
     "text": [
      " 37%|███▋      | 1141/3067 [00:41<01:08, 28.22it/s]"
     ]
    },
    {
     "name": "stdout",
     "output_type": "stream",
     "text": [
      "7.586873531341553\n",
      "7.012632369995117\n",
      "7.475180625915527\n",
      "8.431941986083984\n",
      "7.605721473693848\n",
      "7.72615909576416\n"
     ]
    },
    {
     "name": "stderr",
     "output_type": "stream",
     "text": [
      " 37%|███▋      | 1147/3067 [00:41<01:08, 28.14it/s]"
     ]
    },
    {
     "name": "stdout",
     "output_type": "stream",
     "text": [
      "7.454923629760742\n",
      "7.47385311126709\n",
      "7.130173683166504\n",
      "6.839098930358887\n",
      "7.456545352935791\n",
      "7.355766296386719\n"
     ]
    },
    {
     "name": "stderr",
     "output_type": "stream",
     "text": [
      " 38%|███▊      | 1153/3067 [00:42<01:07, 28.18it/s]"
     ]
    },
    {
     "name": "stdout",
     "output_type": "stream",
     "text": [
      "7.080066680908203\n",
      "7.0140910148620605\n",
      "7.361044406890869\n",
      "7.4496235847473145\n",
      "6.983307838439941\n",
      "6.879553318023682\n"
     ]
    },
    {
     "name": "stderr",
     "output_type": "stream",
     "text": [
      " 38%|███▊      | 1159/3067 [00:42<01:07, 28.26it/s]"
     ]
    },
    {
     "name": "stdout",
     "output_type": "stream",
     "text": [
      "7.403435707092285\n",
      "7.092595100402832\n",
      "6.944609642028809\n",
      "7.436212062835693\n",
      "7.050398826599121\n",
      "6.878929615020752\n"
     ]
    },
    {
     "name": "stderr",
     "output_type": "stream",
     "text": [
      " 38%|███▊      | 1165/3067 [00:42<01:07, 28.06it/s]"
     ]
    },
    {
     "name": "stdout",
     "output_type": "stream",
     "text": [
      "7.086679935455322\n",
      "7.640269756317139\n",
      "7.155534267425537\n",
      "7.090185642242432\n",
      "6.536986351013184\n",
      "7.259049415588379\n"
     ]
    },
    {
     "name": "stderr",
     "output_type": "stream",
     "text": [
      " 38%|███▊      | 1171/3067 [00:42<01:07, 27.89it/s]"
     ]
    },
    {
     "name": "stdout",
     "output_type": "stream",
     "text": [
      "7.921133041381836\n",
      "6.839439868927002\n",
      "7.070845127105713\n",
      "7.53116512298584\n",
      "6.565703392028809\n",
      "7.190217018127441\n"
     ]
    },
    {
     "name": "stderr",
     "output_type": "stream",
     "text": [
      " 38%|███▊      | 1177/3067 [00:43<01:07, 27.86it/s]"
     ]
    },
    {
     "name": "stdout",
     "output_type": "stream",
     "text": [
      "7.38006067276001\n",
      "7.2754716873168945\n",
      "7.45977258682251\n",
      "7.3589301109313965\n",
      "7.219332218170166\n",
      "6.988774299621582\n"
     ]
    },
    {
     "name": "stderr",
     "output_type": "stream",
     "text": [
      " 39%|███▊      | 1183/3067 [00:43<01:06, 28.44it/s]"
     ]
    },
    {
     "name": "stdout",
     "output_type": "stream",
     "text": [
      "7.224951267242432\n",
      "6.852175235748291\n",
      "6.919821739196777\n",
      "6.930747032165527\n",
      "7.043952465057373\n",
      "6.950606346130371\n"
     ]
    },
    {
     "name": "stderr",
     "output_type": "stream",
     "text": [
      " 39%|███▉      | 1190/3067 [00:43<01:04, 29.11it/s]"
     ]
    },
    {
     "name": "stdout",
     "output_type": "stream",
     "text": [
      "6.929617881774902\n",
      "6.650519847869873\n",
      "7.1819682121276855\n",
      "7.175663471221924\n",
      "6.979333400726318\n",
      "6.945522308349609\n"
     ]
    },
    {
     "name": "stderr",
     "output_type": "stream",
     "text": [
      " 39%|███▉      | 1196/3067 [00:43<01:05, 28.75it/s]"
     ]
    },
    {
     "name": "stdout",
     "output_type": "stream",
     "text": [
      "6.894481658935547\n",
      "6.764120101928711\n",
      "7.029572010040283\n",
      "6.839972972869873\n",
      "7.4380364418029785\n",
      "7.399127960205078\n"
     ]
    },
    {
     "name": "stderr",
     "output_type": "stream",
     "text": [
      " 39%|███▉      | 1202/3067 [00:43<01:05, 28.44it/s]"
     ]
    },
    {
     "name": "stdout",
     "output_type": "stream",
     "text": [
      "6.898468971252441\n",
      "7.097554683685303\n",
      "6.964129447937012\n",
      "7.644636154174805\n",
      "7.272327423095703\n",
      "7.254303455352783\n"
     ]
    },
    {
     "name": "stderr",
     "output_type": "stream",
     "text": [
      " 39%|███▉      | 1208/3067 [00:44<01:05, 28.25it/s]"
     ]
    },
    {
     "name": "stdout",
     "output_type": "stream",
     "text": [
      "7.2886061668396\n",
      "7.0456976890563965\n",
      "7.399053573608398\n",
      "7.67608642578125\n",
      "6.867868423461914\n",
      "7.419139862060547\n"
     ]
    },
    {
     "name": "stderr",
     "output_type": "stream",
     "text": [
      " 40%|███▉      | 1214/3067 [00:44<01:05, 28.41it/s]"
     ]
    },
    {
     "name": "stdout",
     "output_type": "stream",
     "text": [
      "7.215520858764648\n",
      "7.577981948852539\n",
      "7.715541362762451\n",
      "7.583888053894043\n",
      "7.161427021026611\n",
      "7.424867153167725\n"
     ]
    },
    {
     "name": "stderr",
     "output_type": "stream",
     "text": [
      " 40%|███▉      | 1220/3067 [00:44<01:05, 28.39it/s]"
     ]
    },
    {
     "name": "stdout",
     "output_type": "stream",
     "text": [
      "7.308812618255615\n",
      "7.174933433532715\n",
      "7.117539405822754\n",
      "7.000365734100342\n",
      "7.446681499481201\n",
      "7.3347296714782715\n"
     ]
    },
    {
     "name": "stderr",
     "output_type": "stream",
     "text": [
      " 40%|███▉      | 1226/3067 [00:44<01:05, 28.21it/s]"
     ]
    },
    {
     "name": "stdout",
     "output_type": "stream",
     "text": [
      "7.355123519897461\n",
      "7.413386821746826\n",
      "6.84259557723999\n",
      "6.53732967376709\n",
      "6.809483051300049\n",
      "7.124868392944336\n"
     ]
    },
    {
     "name": "stderr",
     "output_type": "stream",
     "text": [
      " 40%|████      | 1232/3067 [00:44<01:04, 28.41it/s]"
     ]
    },
    {
     "name": "stdout",
     "output_type": "stream",
     "text": [
      "6.924374103546143\n",
      "6.865324020385742\n",
      "6.671685218811035\n",
      "6.520186901092529\n",
      "6.669898986816406\n",
      "7.128481864929199\n"
     ]
    },
    {
     "name": "stderr",
     "output_type": "stream",
     "text": [
      " 40%|████      | 1238/3067 [00:45<01:04, 28.49it/s]"
     ]
    },
    {
     "name": "stdout",
     "output_type": "stream",
     "text": [
      "7.340137958526611\n",
      "7.261232852935791\n",
      "7.078273773193359\n",
      "6.902990341186523\n",
      "6.49388313293457\n",
      "7.066873550415039\n"
     ]
    },
    {
     "name": "stderr",
     "output_type": "stream",
     "text": [
      " 41%|████      | 1245/3067 [00:45<01:02, 29.23it/s]"
     ]
    },
    {
     "name": "stdout",
     "output_type": "stream",
     "text": [
      "7.427045822143555\n",
      "6.506670951843262\n",
      "6.807179927825928\n",
      "6.724869728088379\n",
      "6.857159614562988\n",
      "6.699617385864258\n",
      "6.600242614746094\n"
     ]
    },
    {
     "name": "stderr",
     "output_type": "stream",
     "text": [
      " 41%|████      | 1251/3067 [00:45<01:03, 28.77it/s]"
     ]
    },
    {
     "name": "stdout",
     "output_type": "stream",
     "text": [
      "6.4417266845703125\n",
      "6.777556419372559\n",
      "6.859004020690918\n",
      "6.375052452087402\n",
      "7.2204670906066895\n",
      "6.551926136016846\n"
     ]
    }
   ],
   "source": [
    "class JNet(nn.Module):\n",
    "    def __init__(self, args):\n",
    "        super(JNet, self).__init__()\n",
    "        self.embd_size = args.embd_size\n",
    "        h_emb = (int)(self.embd_size*0.5)\n",
    "        \n",
    "        self.embd = WordEmbedding(args)\n",
    "        self.ctx_birnn = nn.ModuleList([nn.GRU(self.embd_size, h_emb, bidirectional=True, dropout=0.2) for _ in range(2)])\n",
    "        self.query_birnn = nn.ModuleList([nn.GRU(self.embd_size, h_emb, bidirectional=True, dropout=0.2) for _ in range(2)])\n",
    "        self.last_rnn = nn.GRU(self.embd_size, self.embd_size, bidirectional=True, dropout=0.2)\n",
    "        self.last_layer = nn.Linear(args.ctx_sent_maxlen, args.ctx_maxlen)\n",
    "        \n",
    "    def forward(self, context, query):\n",
    "        x = self.embd(context) # (N, JX, d)\n",
    "        q_embd = self.embd(query) # (N, JQ, d)\n",
    "        q, _h = self.ctx_birnn[0](q_embd) # (N, JQ, d)\n",
    "        q = q.sum(1).unsqueeze(2) # (N, d, 1)\n",
    "\n",
    "        for i in range(2):\n",
    "            d, _h = self.ctx_birnn[i](x) # (N, JX, d)\n",
    "        \n",
    "            attn = F.softmax(torch.bmm(d, q).squeeze()) # (N, JX)\n",
    "            attn_q = torch.bmm(attn.unsqueeze(2), q.transpose(2, 1)) # (N, JX, d)\n",
    "            x = d * attn_q # (N, JX, d)\n",
    "        x, _ = self.last_rnn(x) # (N, JX, 2d)\n",
    "        x = x.sum(2) # (N, JX)\n",
    "#         x = x.view(x.size(0), -1)\n",
    "        x = F.log_softmax(self.last_layer(x))\n",
    "        return x\n",
    "        \n",
    "def train(model, optimizer, loss_fn, n_epoch=5, batch_size=32):\n",
    "    for epoch in range(n_epoch):\n",
    "        print('---Epoch', epoch)\n",
    "        for i in tqdm(range(0, len(data)-batch_size, batch_size)): # TODO shuffle, last elms\n",
    "            batch_data = data[i:i+batch_size]\n",
    "            c = [d[0] for d in batch_data]\n",
    "            q = [d[2] for d in batch_data]\n",
    "            context_var = make_word_vector(c, w2i, ctx_sent_maxlen)\n",
    "            query_var = make_word_vector(q, w2i, query_sent_maxlen)\n",
    "            labels = [d[4][0] for d in batch_data]\n",
    "            labels = to_var(torch.LongTensor(labels))#.squeeze()) #\n",
    "            outs = model(context_var, query_var)\n",
    "            loss = loss_fn(outs, labels)\n",
    "            print(loss.data[0])\n",
    "            model.zero_grad()\n",
    "            loss.backward()\n",
    "            optimizer.step()\n",
    "        \n",
    "        _, preds = torch.max(outs, 1)\n",
    "        ct = 0\n",
    "        for pred, label in zip(preds, labels):\n",
    "            if pred.data[0] == label.data[0]: \n",
    "                ct+=1\n",
    "        print('Acc', ct, '/', len(preds))\n",
    "        \n",
    "    \n",
    "model = JNet(args)\n",
    "if torch.cuda.is_available():\n",
    "    model.cuda()\n",
    "# print(model)\n",
    "# for p in model.parameters():\n",
    "#     print(p)\n",
    "loss_fn = nn.NLLLoss()\n",
    "optimizer = torch.optim.Adadelta(filter(lambda p: p.requires_grad, model.parameters()), lr=0.01)\n",
    "# optimizer = torch.optim.Adadelta(model.parameters(), lr=0.5, weight_decay=0.999)\n",
    "train(model, optimizer, loss_fn)\n",
    "print('fin')"
   ]
  },
  {
   "cell_type": "code",
   "execution_count": null,
   "metadata": {
    "collapsed": true
   },
   "outputs": [],
   "source": []
  }
 ],
 "metadata": {
  "kernelspec": {
   "display_name": "Python 3",
   "language": "python",
   "name": "python3"
  },
  "language_info": {
   "codemirror_mode": {
    "name": "ipython",
    "version": 3
   },
   "file_extension": ".py",
   "mimetype": "text/x-python",
   "name": "python",
   "nbconvert_exporter": "python",
   "pygments_lexer": "ipython3",
   "version": "3.6.1"
  }
 },
 "nbformat": 4,
 "nbformat_minor": 2
}
